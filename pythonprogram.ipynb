{
 "cells": [
  {
   "cell_type": "code",
   "execution_count": 2,
   "id": "97477e49",
   "metadata": {},
   "outputs": [
    {
     "name": "stdout",
     "output_type": "stream",
     "text": [
      "1\n",
      "2\n",
      "Fizz\n",
      "4\n",
      "Buzz\n",
      "Fizz\n",
      "7\n",
      "8\n",
      "Fizz\n",
      "Buzz\n",
      "11\n",
      "Fizz\n",
      "13\n",
      "14\n",
      "FizzBuzz\n",
      "16\n",
      "17\n",
      "Fizz\n",
      "19\n",
      "Buzz\n"
     ]
    }
   ],
   "source": [
    "def fizzbuzz(n):\n",
    "    for i in range(1,n+1):\n",
    "        if i%3==0 and i%5==0:\n",
    "            print(\"FizzBuzz\")\n",
    "        elif i%3==0:\n",
    "            print(\"Fizz\")\n",
    "        elif i%5==0:\n",
    "            print(\"Buzz\")\n",
    "        else:\n",
    "            print(i)\n",
    "fizzbuzz(20)"
   ]
  },
  {
   "cell_type": "code",
   "execution_count": 6,
   "id": "d77bf9bb",
   "metadata": {},
   "outputs": [
    {
     "name": "stdout",
     "output_type": "stream",
     "text": [
      "1\n",
      "2\n",
      "Fizz\n",
      "4\n",
      "Buzz\n",
      "Fizz\n",
      "7\n",
      "8\n",
      "Fizz\n",
      "Buzz\n",
      "11\n",
      "Fizz\n",
      "13\n",
      "14\n",
      "FizzBuzz\n",
      "16\n",
      "17\n",
      "Fizz\n",
      "19\n",
      "Buzz\n",
      "None\n",
      "1\n",
      "2\n",
      "Fizz\n",
      "4\n",
      "Buzz\n",
      "Fizz\n",
      "7\n",
      "8\n",
      "Fizz\n",
      "Buzz\n",
      "11\n",
      "Fizz\n",
      "13\n",
      "14\n",
      "FizzBuzz\n",
      "16\n",
      "17\n",
      "Fizz\n",
      "19\n",
      "Buzz\n"
     ]
    }
   ],
   "source": [
    "def avijit(n):\n",
    "    for i in range(1, n+1):\n",
    "        if i%3==0 and i%5==0:\n",
    "            print(\"FizzBuzz\")\n",
    "        elif i%3==0:\n",
    "            print(\"Fizz\")\n",
    "        elif i%5==0:\n",
    "            print(\"Buzz\")\n",
    "        else:\n",
    "            print(i)\n",
    "print(avijit(20))\n",
    "\n",
    "def fizzbuzz(n):\n",
    "    for i in range(1,n+1):\n",
    "        if i%3==0 and i%5==0:\n",
    "            print(\"FizzBuzz\")\n",
    "        elif i%3==0:\n",
    "            print(\"Fizz\")\n",
    "        elif i%5==0:\n",
    "            print(\"Buzz\")\n",
    "        else:\n",
    "            print(i)\n",
    "fizzbuzz(20)"
   ]
  },
  {
   "cell_type": "code",
   "execution_count": 10,
   "id": "21ae8f15",
   "metadata": {},
   "outputs": [
    {
     "name": "stdout",
     "output_type": "stream",
     "text": [
      "1\n",
      "2\n",
      "fizz\n",
      "4\n",
      "Buzz\n",
      "fizz\n",
      "7\n",
      "8\n",
      "fizz\n",
      "Buzz\n",
      "11\n",
      "fizz\n",
      "13\n",
      "14\n",
      "fizzBuzz\n",
      "16\n",
      "17\n",
      "fizz\n",
      "19\n",
      "Buzz\n",
      "None\n"
     ]
    }
   ],
   "source": [
    "def fizzbuzz2(n):\n",
    "    d={3: 'fizz',\n",
    "      5:'Buzz'}\n",
    "    for i in range(1,n+1):\n",
    "        result=''\n",
    "        for k,v in d.items():\n",
    "            if i%k==0:\n",
    "                result+=v\n",
    "        if not result:\n",
    "            result=i\n",
    "        print(result)\n",
    "        \n",
    "print(fizzbuzz2(20))"
   ]
  },
  {
   "cell_type": "code",
   "execution_count": 19,
   "id": "a8f97e5e",
   "metadata": {},
   "outputs": [
    {
     "name": "stdout",
     "output_type": "stream",
     "text": [
      "aaaaaaaassssssseeeeeeeeeerrrrrerrrtttttttt\n",
      "{'a': 8, 's': 7, 'e': 11, 'r': 8, 't': 8}\n",
      "s\n"
     ]
    }
   ],
   "source": [
    "def lco(s):\n",
    "    print(s)\n",
    "    ch={}\n",
    "    for i in s:\n",
    "        if i in ch:\n",
    "            ch[i]=ch[i]+1\n",
    "        else:\n",
    "            ch[i]=1\n",
    "    print(ch)\n",
    "    result=min(ch,key=ch.get)\n",
    "    print(result)\n",
    "s='aaaaaaaassssssseeeeeeeeeerrrrrerrrtttttttt'\n",
    "lco(s)"
   ]
  },
  {
   "cell_type": "code",
   "execution_count": 32,
   "id": "1d2727a9",
   "metadata": {},
   "outputs": [
    {
     "name": "stdout",
     "output_type": "stream",
     "text": [
      "eerrwwoolllllrifff\n",
      "{'e': 2, 'r': 3, 'w': 2, 'o': 2, 'l': 5, 'i': 1, 'f': 3}\n",
      "i\n",
      "None\n"
     ]
    }
   ],
   "source": [
    "def avi(s):\n",
    "    print(s)\n",
    "    w={}\n",
    "    for i in s:\n",
    "        if i in w:\n",
    "            w[i]=w[i]+1\n",
    "        else:\n",
    "            w[i]=1\n",
    "            \n",
    "    print(w)\n",
    "    r=min(w, key=w.get)\n",
    "    print(r)\n",
    "s=\"eerrwwoolllllrifff\"\n",
    "print(avi(s))"
   ]
  },
  {
   "cell_type": "code",
   "execution_count": 33,
   "id": "c526db0d",
   "metadata": {},
   "outputs": [
    {
     "ename": "ImportError",
     "evalue": "cannot import name 'Container' from 'collections' (C:\\Users\\aviji\\AppData\\Local\\Programs\\Python\\Python310\\lib\\collections\\__init__.py)",
     "output_type": "error",
     "traceback": [
      "\u001b[1;31m---------------------------------------------------------------------------\u001b[0m",
      "\u001b[1;31mImportError\u001b[0m                               Traceback (most recent call last)",
      "Cell \u001b[1;32mIn [33], line 1\u001b[0m\n\u001b[1;32m----> 1\u001b[0m \u001b[38;5;28;01mfrom\u001b[39;00m \u001b[38;5;21;01mcollections\u001b[39;00m \u001b[38;5;28;01mimport\u001b[39;00m Container\n\u001b[0;32m      2\u001b[0m s\u001b[38;5;241m=\u001b[39m\u001b[38;5;124m\"\u001b[39m\u001b[38;5;124maabddiiiiieeeeeeeooooooeeeeee\u001b[39m\u001b[38;5;124m\"\u001b[39m\n\u001b[0;32m      3\u001b[0m ch\u001b[38;5;241m=\u001b[39mCounter(s)\n",
      "\u001b[1;31mImportError\u001b[0m: cannot import name 'Container' from 'collections' (C:\\Users\\aviji\\AppData\\Local\\Programs\\Python\\Python310\\lib\\collections\\__init__.py)"
     ]
    }
   ],
   "source": [
    "from collections import Container\n",
    "s=\"aabddiiiiieeeeeeeooooooeeeeee\"\n",
    "ch=Counter(s)\n",
    "re=min(ch, key=ch.get)\n",
    "print(re)"
   ]
  },
  {
   "cell_type": "code",
   "execution_count": 36,
   "id": "4d7e6c1c",
   "metadata": {},
   "outputs": [
    {
     "name": "stdout",
     "output_type": "stream",
     "text": [
      "[[16, 25, 9, 4]]\n"
     ]
    }
   ],
   "source": [
    "n=[4,5,3,2]\n",
    "u=[list(map(lambda x: x**2,n))]\n",
    "print(u)"
   ]
  },
  {
   "cell_type": "code",
   "execution_count": 37,
   "id": "d4eb959f",
   "metadata": {},
   "outputs": [],
   "source": [
    "mx=lambda s,t: s if s>t else t"
   ]
  },
  {
   "cell_type": "code",
   "execution_count": 41,
   "id": "294a5c28",
   "metadata": {},
   "outputs": [
    {
     "name": "stdout",
     "output_type": "stream",
     "text": [
      "84\n"
     ]
    }
   ],
   "source": [
    "print(mx(8,84))"
   ]
  },
  {
   "cell_type": "code",
   "execution_count": 42,
   "id": "adb717ea",
   "metadata": {},
   "outputs": [
    {
     "name": "stdout",
     "output_type": "stream",
     "text": [
      "4\n",
      "2\n"
     ]
    }
   ],
   "source": [
    "l=[1,2,3,4,5,4,2,4,5,6,4,9,2]\n",
    "print(l.count(4))\n",
    "\n",
    "s=\"aabcciiwwwwutyfd\"\n",
    "print(s.count('a'))"
   ]
  },
  {
   "cell_type": "code",
   "execution_count": 45,
   "id": "8e17e60e",
   "metadata": {},
   "outputs": [
    {
     "ename": "SyntaxError",
     "evalue": "unterminated string literal (detected at line 11) (4252045358.py, line 11)",
     "output_type": "error",
     "traceback": [
      "\u001b[1;36m  Cell \u001b[1;32mIn [45], line 11\u001b[1;36m\u001b[0m\n\u001b[1;33m    cco(ch,'m)\u001b[0m\n\u001b[1;37m           ^\u001b[0m\n\u001b[1;31mSyntaxError\u001b[0m\u001b[1;31m:\u001b[0m unterminated string literal (detected at line 11)\n"
     ]
    }
   ],
   "source": [
    "def cco(s,search):\n",
    "    ch={}\n",
    "    for i in s:\n",
    "        if i in ch:\n",
    "            ch[i]=ch[i]+1\n",
    "        else:\n",
    "            ch[i]=1\n",
    "    print(ch)\n",
    "\n",
    "s=\"aaadddmuuueeeieiiii\"\n",
    "cco(ch,'m)"
   ]
  },
  {
   "cell_type": "code",
   "execution_count": 48,
   "id": "d9303bf2",
   "metadata": {},
   "outputs": [
    {
     "name": "stdout",
     "output_type": "stream",
     "text": [
      "None\n"
     ]
    }
   ],
   "source": [
    "m=[1,2,3,17,8,5,9,6,3,4,5,7,8]\n",
    "n=[]\n",
    "def cu(m):\n",
    "    for i in m:\n",
    "        if i%2==0 or i%3==0:\n",
    "            n.append(i)\n",
    "        else:\n",
    "            return\n",
    "print(cu(m))"
   ]
  },
  {
   "cell_type": "code",
   "execution_count": 53,
   "id": "68bc934b",
   "metadata": {},
   "outputs": [
    {
     "name": "stdout",
     "output_type": "stream",
     "text": [
      "no! Its not a prime number\n"
     ]
    }
   ],
   "source": [
    "def prime_number(n):\n",
    "    flag=False\n",
    "    if n>1:\n",
    "        for i in range(2,n//2+1):\n",
    "            if n%i==0:\n",
    "                flag=True\n",
    "                break\n",
    "    if flag:\n",
    "        return 'no! Its not a prime number'\n",
    "    else:\n",
    "        return 'yes! its a prime number'\n",
    "print(prime_number(4))"
   ]
  },
  {
   "cell_type": "code",
   "execution_count": 57,
   "id": "9d0e248b",
   "metadata": {},
   "outputs": [
    {
     "name": "stdout",
     "output_type": "stream",
     "text": [
      "avijit\n",
      "biswas\n",
      "jahar\n",
      "lal\n",
      "radhanagar\n",
      "barun\n"
     ]
    }
   ],
   "source": [
    "p=['avijit','biswas','jahar','lal','radhanagar','barun']\n",
    "for i in p:\n",
    "    print(i)"
   ]
  },
  {
   "cell_type": "code",
   "execution_count": 58,
   "id": "4e860b60",
   "metadata": {},
   "outputs": [
    {
     "ename": "SyntaxError",
     "evalue": "invalid syntax (285742645.py, line 1)",
     "output_type": "error",
     "traceback": [
      "\u001b[1;36m  Cell \u001b[1;32mIn [58], line 1\u001b[1;36m\u001b[0m\n\u001b[1;33m    def prime_number2\u001b[0m\n\u001b[1;37m                     ^\u001b[0m\n\u001b[1;31mSyntaxError\u001b[0m\u001b[1;31m:\u001b[0m invalid syntax\n"
     ]
    }
   ],
   "source": [
    "def prime_number2"
   ]
  },
  {
   "cell_type": "code",
   "execution_count": 60,
   "id": "739e363e",
   "metadata": {},
   "outputs": [
    {
     "name": "stdout",
     "output_type": "stream",
     "text": [
      "5 6 7 8 9 10 11 12 13 14 15 16 17 18 19 20 21 22 23 24 25 26 27 28 29 30 31 32 33 34 35 36 37 38 39 40 41 42 43 44 45 "
     ]
    }
   ],
   "source": [
    "i=0\n",
    "while (True):\n",
    "    if i+1<5:\n",
    "        i=i+1\n",
    "        continue\n",
    "    print(i+1, end=\" \")\n",
    "    if(i==44):\n",
    "        \n",
    "        break\n",
    "    i=i+1"
   ]
  },
  {
   "cell_type": "code",
   "execution_count": 61,
   "id": "9d3422ac",
   "metadata": {},
   "outputs": [
    {
     "name": "stdout",
     "output_type": "stream",
     "text": [
      "No! its not a prime numeber\n"
     ]
    }
   ],
   "source": [
    "def prime3(n):\n",
    "    if n>1:\n",
    "        for i in range(2,n//2+1):\n",
    "            if n%i==0:\n",
    "                print(\"No! its not a prime numeber\")\n",
    "                break\n",
    "        else:\n",
    "            print(\"yes! Its a prime number\")\n",
    "    else:\n",
    "        print(\"No! its not a prime numeber\")\n",
    "prime3(40)"
   ]
  },
  {
   "cell_type": "code",
   "execution_count": 63,
   "id": "9047df6e",
   "metadata": {},
   "outputs": [
    {
     "name": "stdout",
     "output_type": "stream",
     "text": [
      "13\n",
      "17\n",
      "19\n",
      "23\n",
      "29\n",
      "31\n",
      "37\n",
      "41\n",
      "43\n",
      "47\n",
      "53\n",
      "59\n",
      "61\n",
      "67\n",
      "71\n",
      "73\n",
      "79\n",
      "83\n",
      "89\n",
      "97\n"
     ]
    }
   ],
   "source": [
    "def prime4(start, end):\n",
    "    for n in range(start, end):\n",
    "        if n>1:\n",
    "            for i in range(2,n//2+1):\n",
    "                if n%i==0:\n",
    "                    break\n",
    "            else:\n",
    "                print(n)\n",
    "\n",
    "prime4(13,100)"
   ]
  },
  {
   "cell_type": "code",
   "execution_count": 65,
   "id": "32ac1225",
   "metadata": {},
   "outputs": [
    {
     "name": "stdout",
     "output_type": "stream",
     "text": [
      "['This', 'is', 'a', 'good', 'Morning']\n",
      "None\n"
     ]
    }
   ],
   "source": [
    "def st(s):\n",
    "    l=[]\n",
    "    tem=s.split('_')\n",
    "    print(tem)\n",
    "s='This_is_a_good_Morning'\n",
    "print(st(s))"
   ]
  },
  {
   "cell_type": "code",
   "execution_count": 74,
   "id": "dd567fec",
   "metadata": {},
   "outputs": [
    {
     "name": "stdout",
     "output_type": "stream",
     "text": [
      "tHIS iS a gOOD mORNING\n",
      "None\n"
     ]
    }
   ],
   "source": [
    "def st(s):\n",
    "    l=[]\n",
    "    temp=s.split('_')\n",
    "    for i in temp:\n",
    "        l.append(i[0].lower()+i[1:].upper())\n",
    "    l=' '.join(l)\n",
    "    print(l)\n",
    "s='This_is_a_good_Morning'\n",
    "print(st(s))"
   ]
  },
  {
   "cell_type": "code",
   "execution_count": 76,
   "id": "957a7aa2",
   "metadata": {},
   "outputs": [
    {
     "name": "stdout",
     "output_type": "stream",
     "text": [
      "5\n"
     ]
    }
   ],
   "source": [
    "def second_hight_number(l):\n",
    "    if l[0]>l[1]:\n",
    "        first=l[0]\n",
    "        second=l[1]\n",
    "    else:\n",
    "        first=l[1]\n",
    "        second=l[0]\n",
    "    for i in range(2, len(n)):\n",
    "        if n[i]>first:\n",
    "            second=first\n",
    "            first=l[i]\n",
    "        elif n[i]>second:\n",
    "            second=l[i]\n",
    "    return second\n",
    "l=[5,22,54,15,85,16,75]\n",
    "print(second_hight_number(l))"
   ]
  },
  {
   "cell_type": "code",
   "execution_count": 77,
   "id": "205dee2f",
   "metadata": {},
   "outputs": [
    {
     "name": "stdout",
     "output_type": "stream",
     "text": [
      "100\n",
      "100\n"
     ]
    }
   ],
   "source": [
    "def second_highest_number_using_ort(l):\n",
    "    l.sort(reverse=True)\n",
    "    print(l[1])\n",
    "    l.sort()\n",
    "    print(l[-2])\n",
    "    \n",
    "l=[10,20,30,4,100,22,600]\n",
    "second_highest_number_using_ort(l)"
   ]
  },
  {
   "cell_type": "code",
   "execution_count": 82,
   "id": "d6c0d921",
   "metadata": {},
   "outputs": [
    {
     "name": "stdout",
     "output_type": "stream",
     "text": [
      "0\n",
      "1\n",
      "153\n",
      "370\n",
      "371\n",
      "407\n"
     ]
    }
   ],
   "source": [
    "def armstrong(start,end):\n",
    "    for n in range(start,end):\n",
    "        sum=0\n",
    "        temp=n\n",
    "        while temp>0:\n",
    "            digit=temp%10\n",
    "            sum=sum+(digit**3)\n",
    "            temp=temp//10\n",
    "        if n==sum:\n",
    "            print(n)\n",
    "armstrong(0,500)"
   ]
  },
  {
   "cell_type": "code",
   "execution_count": 83,
   "id": "f1f07d99",
   "metadata": {},
   "outputs": [
    {
     "name": "stdout",
     "output_type": "stream",
     "text": [
      "120\n",
      "720\n"
     ]
    }
   ],
   "source": [
    "def factorial(n):\n",
    "    facto=1\n",
    "    for i in range(1,n+1):\n",
    "        facto=facto*i\n",
    "    return facto\n",
    "print(factorial(5))\n",
    "print(factorial(6))"
   ]
  },
  {
   "cell_type": "code",
   "execution_count": 1,
   "id": "5c331949",
   "metadata": {},
   "outputs": [
    {
     "name": "stdout",
     "output_type": "stream",
     "text": [
      "120\n"
     ]
    }
   ],
   "source": [
    "n=5\n",
    "fa=1\n",
    "for i in range(1,n+1):\n",
    "    fa=fa*i\n",
    "print(fa)"
   ]
  },
  {
   "cell_type": "code",
   "execution_count": 6,
   "id": "d0848725",
   "metadata": {},
   "outputs": [
    {
     "name": "stdout",
     "output_type": "stream",
     "text": [
      "120\n",
      "720\n",
      "yes\n"
     ]
    }
   ],
   "source": [
    "def factorial(n):\n",
    "    facto=1\n",
    "    for i in range(1,n+1):\n",
    "        facto=facto*i\n",
    "    return facto\n",
    "print(factorial(5))\n",
    "print(factorial(6))\n",
    "\n",
    "\n",
    "def sum_of_facto(n):\n",
    "    temp=n\n",
    "    sum=0\n",
    "    while(temp>0):\n",
    "        digit=temp%10\n",
    "        temp=temp//10\n",
    "        facto=factorial(digit)\n",
    "        sum=sum+facto\n",
    "    if sum==n:\n",
    "        print(\"yes\")\n",
    "    else:\n",
    "        print('No')\n",
    "        \n",
    "sum_of_facto(145)"
   ]
  },
  {
   "cell_type": "code",
   "execution_count": null,
   "id": "2785baf6",
   "metadata": {},
   "outputs": [],
   "source": []
  }
 ],
 "metadata": {
  "kernelspec": {
   "display_name": "Python 3 (ipykernel)",
   "language": "python",
   "name": "python3"
  },
  "language_info": {
   "codemirror_mode": {
    "name": "ipython",
    "version": 3
   },
   "file_extension": ".py",
   "mimetype": "text/x-python",
   "name": "python",
   "nbconvert_exporter": "python",
   "pygments_lexer": "ipython3",
   "version": "3.10.7"
  }
 },
 "nbformat": 4,
 "nbformat_minor": 5
}
