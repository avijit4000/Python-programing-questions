{
 "cells": [
  {
   "cell_type": "code",
   "execution_count": 9,
   "id": "ebdd3a6c",
   "metadata": {},
   "outputs": [
    {
     "ename": "ModuleNotFoundError",
     "evalue": "No module named 'datatime'",
     "output_type": "error",
     "traceback": [
      "\u001b[1;31m---------------------------------------------------------------------------\u001b[0m",
      "\u001b[1;31mModuleNotFoundError\u001b[0m                       Traceback (most recent call last)",
      "Cell \u001b[1;32mIn [9], line 3\u001b[0m\n\u001b[0;32m      1\u001b[0m \u001b[38;5;28;01mimport\u001b[39;00m \u001b[38;5;21;01mpandas\u001b[39;00m \u001b[38;5;28;01mas\u001b[39;00m \u001b[38;5;21;01mpd\u001b[39;00m\n\u001b[0;32m      2\u001b[0m \u001b[38;5;28;01mfrom\u001b[39;00m \u001b[38;5;21;01mnsepy\u001b[39;00m\u001b[38;5;21;01m.\u001b[39;00m\u001b[38;5;21;01mhistory\u001b[39;00m \u001b[38;5;28;01mimport\u001b[39;00m get_price_list\n\u001b[1;32m----> 3\u001b[0m \u001b[38;5;28;01mfrom\u001b[39;00m \u001b[38;5;21;01mdatatime\u001b[39;00m \u001b[38;5;28;01mimport\u001b[39;00m date\n\u001b[0;32m      4\u001b[0m bhavcopy\u001b[38;5;241m=\u001b[39mget_price_list(dt\u001b[38;5;241m=\u001b[39mdate(\u001b[38;5;241m2022\u001b[39m,\u001b[38;5;241m8\u001b[39m,\u001b[38;5;241m30\u001b[39m))\n\u001b[0;32m      5\u001b[0m bhavcopy[\u001b[38;5;124m\"\u001b[39m\u001b[38;5;124mAVG_PRICE\u001b[39m\u001b[38;5;124m\"\u001b[39m]\u001b[38;5;241m=\u001b[39mbhavcopy[\u001b[38;5;124m\"\u001b[39m\u001b[38;5;124mTOTTRDVAL\u001b[39m\u001b[38;5;124m\"\u001b[39m]\u001b[38;5;241m/\u001b[39mbhavcopy[\u001b[38;5;124m\"\u001b[39m\u001b[38;5;124mTOTTRDOTY\u001b[39m\u001b[38;5;124m\"\u001b[39m]\n",
      "\u001b[1;31mModuleNotFoundError\u001b[0m: No module named 'datatime'"
     ]
    }
   ],
   "source": [
    "import pandas as pd\n",
    "from nsepy.history import get_price_list\n",
    "from datatime import date\n",
    "bhavcopy=get_price_list(dt=date(2022,8,30))\n",
    "bhavcopy[\"AVG_PRICE\"]=bhavcopy[\"TOTTRDVAL\"]/bhavcopy[\"TOTTRDOTY\"]\n",
    "data=pd.read_csv(\"sec_bhavdata_full_30082022.csv\",skipinitialspace=True)\n",
    "data=date[date['SERIES']=='EQ']\n",
    "date['CHANGE']=data[\"CLOSE_PRICE\"]-data[\"PREV_CLOSE\"]\n",
    "desired_width=320\n",
    "pd.set_option('display.width',desired_width)\n",
    "pd.set_option('display.max_columns',None)\n",
    "pd.set_option('display.max_rows',None)\n",
    "print(data.head())\n",
    "print(bhavcopy)"
   ]
  },
  {
   "cell_type": "code",
   "execution_count": 4,
   "id": "7ce21c55",
   "metadata": {},
   "outputs": [
    {
     "ename": "ModuleNotFoundError",
     "evalue": "No module named 'datatime'",
     "output_type": "error",
     "traceback": [
      "\u001b[1;31m---------------------------------------------------------------------------\u001b[0m",
      "\u001b[1;31mModuleNotFoundError\u001b[0m                       Traceback (most recent call last)",
      "Cell \u001b[1;32mIn [4], line 1\u001b[0m\n\u001b[1;32m----> 1\u001b[0m \u001b[38;5;28;01mfrom\u001b[39;00m \u001b[38;5;21;01mdatatime\u001b[39;00m \u001b[38;5;28;01mimport\u001b[39;00m date\n",
      "\u001b[1;31mModuleNotFoundError\u001b[0m: No module named 'datatime'"
     ]
    }
   ],
   "source": [
    "from datatime import date"
   ]
  },
  {
   "cell_type": "code",
   "execution_count": 5,
   "id": "36264aab",
   "metadata": {},
   "outputs": [
    {
     "name": "stdout",
     "output_type": "stream",
     "text": [
      "Requirement already satisfied: datetime in c:\\users\\aviji\\appdata\\local\\programs\\python\\python310\\lib\\site-packages (4.7)Note: you may need to restart the kernel to use updated packages.\n",
      "\n",
      "Requirement already satisfied: zope.interface in c:\\users\\aviji\\appdata\\local\\programs\\python\\python310\\lib\\site-packages (from datetime) (5.4.0)\n",
      "Requirement already satisfied: pytz in c:\\users\\aviji\\appdata\\local\\programs\\python\\python310\\lib\\site-packages (from datetime) (2022.2.1)\n",
      "Requirement already satisfied: setuptools in c:\\users\\aviji\\appdata\\local\\programs\\python\\python310\\lib\\site-packages (from zope.interface->datetime) (59.8.0)\n"
     ]
    }
   ],
   "source": [
    "pip install datetime\n"
   ]
  },
  {
   "cell_type": "code",
   "execution_count": 6,
   "id": "e13a1636",
   "metadata": {},
   "outputs": [],
   "source": [
    "from DateTime import DateTime\n"
   ]
  },
  {
   "cell_type": "code",
   "execution_count": 7,
   "id": "5ecc74cf",
   "metadata": {},
   "outputs": [
    {
     "data": {
      "text/plain": [
       "'US/Eastern'"
      ]
     },
     "execution_count": 7,
     "metadata": {},
     "output_type": "execute_result"
    }
   ],
   "source": [
    "e=DateTime('US/Easternyy')\n",
    "e.timezone()\n",
    "'US/Eastern'"
   ]
  },
  {
   "cell_type": "code",
   "execution_count": 1,
   "id": "baad5dd1",
   "metadata": {},
   "outputs": [
    {
     "name": "stdout",
     "output_type": "stream",
     "text": [
      "avijit\n"
     ]
    }
   ],
   "source": [
    "print('avijit')"
   ]
  },
  {
   "cell_type": "code",
   "execution_count": 10,
   "id": "ac3e289b",
   "metadata": {},
   "outputs": [
    {
     "name": "stdout",
     "output_type": "stream",
     "text": [
      "tell me a words: ann\n",
      "home\n",
      "tell me a words: eo\n",
      "u can play\n",
      "tell me a words: q\n",
      "u can play\n"
     ]
    }
   ],
   "source": [
    "banned_users=['ann','chad','dee']\n",
    "\n",
    "while user!='q':\n",
    "    user=input('tell me a words: ')\n",
    "    if user not in banned_users:\n",
    "        print('u can play')\n",
    "    else:\n",
    "        print('home')"
   ]
  },
  {
   "cell_type": "code",
   "execution_count": 16,
   "id": "ac34c853",
   "metadata": {},
   "outputs": [],
   "source": [
    "players=[]\n",
    "if players:\n",
    "    for player in players:\n",
    "        print(\"Player: \"+ players.title())\n",
    "    else:\n",
    "        print(\"We have no players yet!\")"
   ]
  },
  {
   "cell_type": "code",
   "execution_count": 18,
   "id": "796ef845",
   "metadata": {},
   "outputs": [
    {
     "name": "stdout",
     "output_type": "stream",
     "text": [
      "what is your name:avijit\n",
      "My name is :avijit\n"
     ]
    }
   ],
   "source": [
    "name=input('what is your name:')\n",
    "print('My name is :'+ name)\n"
   ]
  },
  {
   "cell_type": "code",
   "execution_count": 19,
   "id": "12b313a4",
   "metadata": {},
   "outputs": [],
   "source": [
    "pro=\"\\ntell me something,and I'll\"\n",
    "pro+='repeat it back to you.'\n",
    "pro+=\"\\nEnter 'quit'to the end program\""
   ]
  },
  {
   "cell_type": "code",
   "execution_count": 20,
   "id": "bf9274ec",
   "metadata": {},
   "outputs": [
    {
     "data": {
      "text/plain": [
       "\"\\ntell me something,and I'llrepeat it back to you.\\nEnter 'quit'to the end program\""
      ]
     },
     "execution_count": 20,
     "metadata": {},
     "output_type": "execute_result"
    }
   ],
   "source": [
    "pro"
   ]
  },
  {
   "cell_type": "markdown",
   "id": "4eec05d8",
   "metadata": {},
   "source": [
    "msg"
   ]
  },
  {
   "cell_type": "code",
   "execution_count": 2,
   "id": "8a4864db",
   "metadata": {},
   "outputs": [
    {
     "name": "stdout",
     "output_type": "stream",
     "text": [
      "tell:avijit\n",
      "i m ok avijit\n",
      "tell:m\n",
      "i m ok m\n"
     ]
    }
   ],
   "source": [
    "msg=''\n",
    "while msg!='m':\n",
    "    msg=input('tell:')\n",
    "    print('i m ok '+msg)"
   ]
  },
  {
   "cell_type": "markdown",
   "id": "5bd8b5f5",
   "metadata": {},
   "source": [
    "print('avijit'"
   ]
  },
  {
   "cell_type": "code",
   "execution_count": 3,
   "id": "a9f0f87e",
   "metadata": {},
   "outputs": [
    {
     "name": "stdout",
     "output_type": "stream",
     "text": [
      "avijit\n"
     ]
    }
   ],
   "source": [
    "print('avijit')"
   ]
  },
  {
   "cell_type": "code",
   "execution_count": 5,
   "id": "e75998f8",
   "metadata": {},
   "outputs": [],
   "source": [
    "users=[]\n",
    "new_user={\n",
    "    'last': 'fermi',\n",
    "    'first':'enrico',\n",
    "    'username':'efermi'\n",
    "}\n",
    "users.append(new_user)"
   ]
  },
  {
   "cell_type": "code",
   "execution_count": 6,
   "id": "f745392f",
   "metadata": {},
   "outputs": [],
   "source": [
    "new_user={\n",
    "    'last': 'fermi',\n",
    "    'first':'marie',\n",
    "    'username':'mcurie'\n",
    "}\n",
    "users.append(new_user)"
   ]
  },
  {
   "cell_type": "code",
   "execution_count": 7,
   "id": "f75da211",
   "metadata": {},
   "outputs": [
    {
     "name": "stdout",
     "output_type": "stream",
     "text": [
      "last: fermi\n",
      "first: enrico\n",
      "username: efermi\n",
      "\n",
      "\n",
      "last: fermi\n",
      "first: marie\n",
      "username: mcurie\n",
      "\n",
      "\n"
     ]
    }
   ],
   "source": [
    "for ud in users:\n",
    "    for k,v in ud.items():\n",
    "        print(k + \": \"+v)\n",
    "    print(\"\\n\")"
   ]
  },
  {
   "cell_type": "code",
   "execution_count": 8,
   "id": "cdfd4ce4",
   "metadata": {},
   "outputs": [
    {
     "data": {
      "text/plain": [
       "[{'last': 'fermi', 'first': 'enrico', 'username': 'efermi'},\n",
       " {'last': 'fermi', 'first': 'marie', 'username': 'mcurie'}]"
      ]
     },
     "execution_count": 8,
     "metadata": {},
     "output_type": "execute_result"
    }
   ],
   "source": [
    "users"
   ]
  },
  {
   "cell_type": "code",
   "execution_count": 9,
   "id": "c5088e2a",
   "metadata": {},
   "outputs": [],
   "source": [
    "user1=[{'last': 'fermi', 'first': 'enrico', 'username': 'efermi'},\n",
    " {'last': 'fermi', 'first': 'marie', 'username': 'mcurie'}]"
   ]
  },
  {
   "cell_type": "code",
   "execution_count": 13,
   "id": "e206efb9",
   "metadata": {},
   "outputs": [
    {
     "name": "stdout",
     "output_type": "stream",
     "text": [
      "last:fermi\n",
      "first:enrico\n",
      "username:efermi\n",
      "\n",
      "\n",
      "last:fermi\n",
      "first:marie\n",
      "username:mcurie\n",
      "\n",
      "\n"
     ]
    }
   ],
   "source": [
    "for ub in user1:\n",
    "    for h,d in ub.items():\n",
    "        print(h+\":\"+d)\n",
    "    print(\"\\n\")"
   ]
  },
  {
   "cell_type": "code",
   "execution_count": 18,
   "id": "45f964fe",
   "metadata": {},
   "outputs": [
    {
     "name": "stdout",
     "output_type": "stream",
     "text": [
      "last:\n",
      "-fermi\n",
      "first:\n",
      "-enrico\n",
      "-marie\n",
      "username:\n",
      "-efermi\n",
      "-mcurie\n"
     ]
    }
   ],
   "source": [
    "us={'last':['fermi'],\n",
    "'first':['enrico','marie'],\n",
    "'username':['efermi','mcurie']}\n",
    "\n",
    "for o,i in us.items():\n",
    "    print(o+\":\")\n",
    "    for l in i:\n",
    "        print('-'+l)"
   ]
  },
  {
   "cell_type": "code",
   "execution_count": 27,
   "id": "1de76dbd",
   "metadata": {},
   "outputs": [
    {
     "name": "stdout",
     "output_type": "stream",
     "text": [
      "\n",
      "Username:aenstein\n",
      "\tFull name:Albert Einstein\n",
      "\tlocation: Princeton\n",
      "\n",
      "Username:meurie\n",
      "\tFull name:Albert Einstein\n",
      "\tlocation: Princeton\n"
     ]
    }
   ],
   "source": [
    "users2={\n",
    "    'aenstein':{\n",
    "        \n",
    "        'first': 'albert',\n",
    "        'last':'einstein',\n",
    "        'location':'princeton',\n",
    "    },\n",
    "    'meurie':{\n",
    "        'first': 'albert',\n",
    "        'last':'einstein',\n",
    "        'location':'princeton',\n",
    "    },\n",
    "}\n",
    "for username, user_dict in users2.items():\n",
    "    print(\"\\nUsername:\"+username)\n",
    "    full_name=user_dict['first']+\" \" \n",
    "    full_name+=user_dict['last']\n",
    "    location=user_dict['location']\n",
    "    \n",
    "    print(\"\\tFull name:\" + full_name.title())\n",
    "    print(\"\\tlocation: \" + location.title())"
   ]
  },
  {
   "cell_type": "code",
   "execution_count": 28,
   "id": "5c2d3a3f",
   "metadata": {},
   "outputs": [],
   "source": [
    "from collections import OrderedDict"
   ]
  },
  {
   "cell_type": "code",
   "execution_count": 35,
   "id": "547db6c2",
   "metadata": {},
   "outputs": [
    {
     "name": "stdout",
     "output_type": "stream",
     "text": [
      "jan:\n",
      "_python\n",
      "_ruby\n",
      "sarah:\n",
      "_c\n",
      "edward:\n",
      "_ruby\n",
      "_go\n",
      "phil:\n",
      "_python\n",
      "_haskell\n"
     ]
    }
   ],
   "source": [
    "fav_languages=OrderedDict()\n",
    "fav_languages['jan']=['python','ruby']\n",
    "fav_languages['sarah']=['c']\n",
    "fav_languages['edward']=['ruby','go']\n",
    "fav_languages['phil']=['python','haskell']\n",
    "\n",
    "for name, langs in fav_languages.items():\n",
    "    print(name+\":\")\n",
    "    for lang in langs:\n",
    "        print(\"_\"+lang)"
   ]
  },
  {
   "cell_type": "code",
   "execution_count": 36,
   "id": "6d8c83d4",
   "metadata": {},
   "outputs": [
    {
     "name": "stdout",
     "output_type": "stream",
     "text": [
      "Number of aliens created:\n",
      "1000000\n"
     ]
    }
   ],
   "source": [
    "aliens=[]\n",
    "for aliens_num in range(1000000):\n",
    "    new_alien={}\n",
    "    new_alien['color']='green'\n",
    "    new_alien['points']=5\n",
    "    new_alien['x']=20*aliens_num\n",
    "    new_alien['y']=0\n",
    "    aliens.append(new_alien)\n",
    "    \n",
    "num_aliens=len(aliens)\n",
    "\n",
    "print(\"Number of aliens created:\")\n",
    "print(num_aliens)"
   ]
  },
  {
   "cell_type": "code",
   "execution_count": 37,
   "id": "b1310dbe",
   "metadata": {},
   "outputs": [
    {
     "data": {
      "text/plain": [
       "[{'color': 'green', 'points': 5, 'x': 0, 'y': 0},\n",
       " {'color': 'green', 'points': 5, 'x': 20, 'y': 0},\n",
       " {'color': 'green', 'points': 5, 'x': 40, 'y': 0},\n",
       " {'color': 'green', 'points': 5, 'x': 60, 'y': 0},\n",
       " {'color': 'green', 'points': 5, 'x': 80, 'y': 0},\n",
       " {'color': 'green', 'points': 5, 'x': 100, 'y': 0},\n",
       " {'color': 'green', 'points': 5, 'x': 120, 'y': 0},\n",
       " {'color': 'green', 'points': 5, 'x': 140, 'y': 0},\n",
       " {'color': 'green', 'points': 5, 'x': 160, 'y': 0},\n",
       " {'color': 'green', 'points': 5, 'x': 180, 'y': 0},\n",
       " {'color': 'green', 'points': 5, 'x': 200, 'y': 0},\n",
       " {'color': 'green', 'points': 5, 'x': 220, 'y': 0},\n",
       " {'color': 'green', 'points': 5, 'x': 240, 'y': 0},\n",
       " {'color': 'green', 'points': 5, 'x': 260, 'y': 0},\n",
       " {'color': 'green', 'points': 5, 'x': 280, 'y': 0},\n",
       " {'color': 'green', 'points': 5, 'x': 300, 'y': 0},\n",
       " {'color': 'green', 'points': 5, 'x': 320, 'y': 0},\n",
       " {'color': 'green', 'points': 5, 'x': 340, 'y': 0},\n",
       " {'color': 'green', 'points': 5, 'x': 360, 'y': 0},\n",
       " {'color': 'green', 'points': 5, 'x': 380, 'y': 0},\n",
       " {'color': 'green', 'points': 5, 'x': 400, 'y': 0},\n",
       " {'color': 'green', 'points': 5, 'x': 420, 'y': 0},\n",
       " {'color': 'green', 'points': 5, 'x': 440, 'y': 0},\n",
       " {'color': 'green', 'points': 5, 'x': 460, 'y': 0},\n",
       " {'color': 'green', 'points': 5, 'x': 480, 'y': 0},\n",
       " {'color': 'green', 'points': 5, 'x': 500, 'y': 0},\n",
       " {'color': 'green', 'points': 5, 'x': 520, 'y': 0},\n",
       " {'color': 'green', 'points': 5, 'x': 540, 'y': 0},\n",
       " {'color': 'green', 'points': 5, 'x': 560, 'y': 0},\n",
       " {'color': 'green', 'points': 5, 'x': 580, 'y': 0},\n",
       " {'color': 'green', 'points': 5, 'x': 600, 'y': 0},\n",
       " {'color': 'green', 'points': 5, 'x': 620, 'y': 0},\n",
       " {'color': 'green', 'points': 5, 'x': 640, 'y': 0},\n",
       " {'color': 'green', 'points': 5, 'x': 660, 'y': 0},\n",
       " {'color': 'green', 'points': 5, 'x': 680, 'y': 0},\n",
       " {'color': 'green', 'points': 5, 'x': 700, 'y': 0},\n",
       " {'color': 'green', 'points': 5, 'x': 720, 'y': 0},\n",
       " {'color': 'green', 'points': 5, 'x': 740, 'y': 0},\n",
       " {'color': 'green', 'points': 5, 'x': 760, 'y': 0},\n",
       " {'color': 'green', 'points': 5, 'x': 780, 'y': 0},\n",
       " {'color': 'green', 'points': 5, 'x': 800, 'y': 0},\n",
       " {'color': 'green', 'points': 5, 'x': 820, 'y': 0},\n",
       " {'color': 'green', 'points': 5, 'x': 840, 'y': 0},\n",
       " {'color': 'green', 'points': 5, 'x': 860, 'y': 0},\n",
       " {'color': 'green', 'points': 5, 'x': 880, 'y': 0},\n",
       " {'color': 'green', 'points': 5, 'x': 900, 'y': 0},\n",
       " {'color': 'green', 'points': 5, 'x': 920, 'y': 0},\n",
       " {'color': 'green', 'points': 5, 'x': 940, 'y': 0},\n",
       " {'color': 'green', 'points': 5, 'x': 960, 'y': 0},\n",
       " {'color': 'green', 'points': 5, 'x': 980, 'y': 0},\n",
       " {'color': 'green', 'points': 5, 'x': 1000, 'y': 0},\n",
       " {'color': 'green', 'points': 5, 'x': 1020, 'y': 0},\n",
       " {'color': 'green', 'points': 5, 'x': 1040, 'y': 0},\n",
       " {'color': 'green', 'points': 5, 'x': 1060, 'y': 0},\n",
       " {'color': 'green', 'points': 5, 'x': 1080, 'y': 0},\n",
       " {'color': 'green', 'points': 5, 'x': 1100, 'y': 0},\n",
       " {'color': 'green', 'points': 5, 'x': 1120, 'y': 0},\n",
       " {'color': 'green', 'points': 5, 'x': 1140, 'y': 0},\n",
       " {'color': 'green', 'points': 5, 'x': 1160, 'y': 0},\n",
       " {'color': 'green', 'points': 5, 'x': 1180, 'y': 0},\n",
       " {'color': 'green', 'points': 5, 'x': 1200, 'y': 0},\n",
       " {'color': 'green', 'points': 5, 'x': 1220, 'y': 0},\n",
       " {'color': 'green', 'points': 5, 'x': 1240, 'y': 0},\n",
       " {'color': 'green', 'points': 5, 'x': 1260, 'y': 0},\n",
       " {'color': 'green', 'points': 5, 'x': 1280, 'y': 0},\n",
       " {'color': 'green', 'points': 5, 'x': 1300, 'y': 0},\n",
       " {'color': 'green', 'points': 5, 'x': 1320, 'y': 0},\n",
       " {'color': 'green', 'points': 5, 'x': 1340, 'y': 0},\n",
       " {'color': 'green', 'points': 5, 'x': 1360, 'y': 0},\n",
       " {'color': 'green', 'points': 5, 'x': 1380, 'y': 0},\n",
       " {'color': 'green', 'points': 5, 'x': 1400, 'y': 0},\n",
       " {'color': 'green', 'points': 5, 'x': 1420, 'y': 0},\n",
       " {'color': 'green', 'points': 5, 'x': 1440, 'y': 0},\n",
       " {'color': 'green', 'points': 5, 'x': 1460, 'y': 0},\n",
       " {'color': 'green', 'points': 5, 'x': 1480, 'y': 0},\n",
       " {'color': 'green', 'points': 5, 'x': 1500, 'y': 0},\n",
       " {'color': 'green', 'points': 5, 'x': 1520, 'y': 0},\n",
       " {'color': 'green', 'points': 5, 'x': 1540, 'y': 0},\n",
       " {'color': 'green', 'points': 5, 'x': 1560, 'y': 0},\n",
       " {'color': 'green', 'points': 5, 'x': 1580, 'y': 0},\n",
       " {'color': 'green', 'points': 5, 'x': 1600, 'y': 0},\n",
       " {'color': 'green', 'points': 5, 'x': 1620, 'y': 0},\n",
       " {'color': 'green', 'points': 5, 'x': 1640, 'y': 0},\n",
       " {'color': 'green', 'points': 5, 'x': 1660, 'y': 0},\n",
       " {'color': 'green', 'points': 5, 'x': 1680, 'y': 0},\n",
       " {'color': 'green', 'points': 5, 'x': 1700, 'y': 0},\n",
       " {'color': 'green', 'points': 5, 'x': 1720, 'y': 0},\n",
       " {'color': 'green', 'points': 5, 'x': 1740, 'y': 0},\n",
       " {'color': 'green', 'points': 5, 'x': 1760, 'y': 0},\n",
       " {'color': 'green', 'points': 5, 'x': 1780, 'y': 0},\n",
       " {'color': 'green', 'points': 5, 'x': 1800, 'y': 0},\n",
       " {'color': 'green', 'points': 5, 'x': 1820, 'y': 0},\n",
       " {'color': 'green', 'points': 5, 'x': 1840, 'y': 0},\n",
       " {'color': 'green', 'points': 5, 'x': 1860, 'y': 0},\n",
       " {'color': 'green', 'points': 5, 'x': 1880, 'y': 0},\n",
       " {'color': 'green', 'points': 5, 'x': 1900, 'y': 0},\n",
       " {'color': 'green', 'points': 5, 'x': 1920, 'y': 0},\n",
       " {'color': 'green', 'points': 5, 'x': 1940, 'y': 0},\n",
       " {'color': 'green', 'points': 5, 'x': 1960, 'y': 0},\n",
       " {'color': 'green', 'points': 5, 'x': 1980, 'y': 0},\n",
       " {'color': 'green', 'points': 5, 'x': 2000, 'y': 0},\n",
       " {'color': 'green', 'points': 5, 'x': 2020, 'y': 0},\n",
       " {'color': 'green', 'points': 5, 'x': 2040, 'y': 0},\n",
       " {'color': 'green', 'points': 5, 'x': 2060, 'y': 0},\n",
       " {'color': 'green', 'points': 5, 'x': 2080, 'y': 0},\n",
       " {'color': 'green', 'points': 5, 'x': 2100, 'y': 0},\n",
       " {'color': 'green', 'points': 5, 'x': 2120, 'y': 0},\n",
       " {'color': 'green', 'points': 5, 'x': 2140, 'y': 0},\n",
       " {'color': 'green', 'points': 5, 'x': 2160, 'y': 0},\n",
       " {'color': 'green', 'points': 5, 'x': 2180, 'y': 0},\n",
       " {'color': 'green', 'points': 5, 'x': 2200, 'y': 0},\n",
       " {'color': 'green', 'points': 5, 'x': 2220, 'y': 0},\n",
       " {'color': 'green', 'points': 5, 'x': 2240, 'y': 0},\n",
       " {'color': 'green', 'points': 5, 'x': 2260, 'y': 0},\n",
       " {'color': 'green', 'points': 5, 'x': 2280, 'y': 0},\n",
       " {'color': 'green', 'points': 5, 'x': 2300, 'y': 0},\n",
       " {'color': 'green', 'points': 5, 'x': 2320, 'y': 0},\n",
       " {'color': 'green', 'points': 5, 'x': 2340, 'y': 0},\n",
       " {'color': 'green', 'points': 5, 'x': 2360, 'y': 0},\n",
       " {'color': 'green', 'points': 5, 'x': 2380, 'y': 0},\n",
       " {'color': 'green', 'points': 5, 'x': 2400, 'y': 0},\n",
       " {'color': 'green', 'points': 5, 'x': 2420, 'y': 0},\n",
       " {'color': 'green', 'points': 5, 'x': 2440, 'y': 0},\n",
       " {'color': 'green', 'points': 5, 'x': 2460, 'y': 0},\n",
       " {'color': 'green', 'points': 5, 'x': 2480, 'y': 0},\n",
       " {'color': 'green', 'points': 5, 'x': 2500, 'y': 0},\n",
       " {'color': 'green', 'points': 5, 'x': 2520, 'y': 0},\n",
       " {'color': 'green', 'points': 5, 'x': 2540, 'y': 0},\n",
       " {'color': 'green', 'points': 5, 'x': 2560, 'y': 0},\n",
       " {'color': 'green', 'points': 5, 'x': 2580, 'y': 0},\n",
       " {'color': 'green', 'points': 5, 'x': 2600, 'y': 0},\n",
       " {'color': 'green', 'points': 5, 'x': 2620, 'y': 0},\n",
       " {'color': 'green', 'points': 5, 'x': 2640, 'y': 0},\n",
       " {'color': 'green', 'points': 5, 'x': 2660, 'y': 0},\n",
       " {'color': 'green', 'points': 5, 'x': 2680, 'y': 0},\n",
       " {'color': 'green', 'points': 5, 'x': 2700, 'y': 0},\n",
       " {'color': 'green', 'points': 5, 'x': 2720, 'y': 0},\n",
       " {'color': 'green', 'points': 5, 'x': 2740, 'y': 0},\n",
       " {'color': 'green', 'points': 5, 'x': 2760, 'y': 0},\n",
       " {'color': 'green', 'points': 5, 'x': 2780, 'y': 0},\n",
       " {'color': 'green', 'points': 5, 'x': 2800, 'y': 0},\n",
       " {'color': 'green', 'points': 5, 'x': 2820, 'y': 0},\n",
       " {'color': 'green', 'points': 5, 'x': 2840, 'y': 0},\n",
       " {'color': 'green', 'points': 5, 'x': 2860, 'y': 0},\n",
       " {'color': 'green', 'points': 5, 'x': 2880, 'y': 0},\n",
       " {'color': 'green', 'points': 5, 'x': 2900, 'y': 0},\n",
       " {'color': 'green', 'points': 5, 'x': 2920, 'y': 0},\n",
       " {'color': 'green', 'points': 5, 'x': 2940, 'y': 0},\n",
       " {'color': 'green', 'points': 5, 'x': 2960, 'y': 0},\n",
       " {'color': 'green', 'points': 5, 'x': 2980, 'y': 0},\n",
       " {'color': 'green', 'points': 5, 'x': 3000, 'y': 0},\n",
       " {'color': 'green', 'points': 5, 'x': 3020, 'y': 0},\n",
       " {'color': 'green', 'points': 5, 'x': 3040, 'y': 0},\n",
       " {'color': 'green', 'points': 5, 'x': 3060, 'y': 0},\n",
       " {'color': 'green', 'points': 5, 'x': 3080, 'y': 0},\n",
       " {'color': 'green', 'points': 5, 'x': 3100, 'y': 0},\n",
       " {'color': 'green', 'points': 5, 'x': 3120, 'y': 0},\n",
       " {'color': 'green', 'points': 5, 'x': 3140, 'y': 0},\n",
       " {'color': 'green', 'points': 5, 'x': 3160, 'y': 0},\n",
       " {'color': 'green', 'points': 5, 'x': 3180, 'y': 0},\n",
       " {'color': 'green', 'points': 5, 'x': 3200, 'y': 0},\n",
       " {'color': 'green', 'points': 5, 'x': 3220, 'y': 0},\n",
       " {'color': 'green', 'points': 5, 'x': 3240, 'y': 0},\n",
       " {'color': 'green', 'points': 5, 'x': 3260, 'y': 0},\n",
       " {'color': 'green', 'points': 5, 'x': 3280, 'y': 0},\n",
       " {'color': 'green', 'points': 5, 'x': 3300, 'y': 0},\n",
       " {'color': 'green', 'points': 5, 'x': 3320, 'y': 0},\n",
       " {'color': 'green', 'points': 5, 'x': 3340, 'y': 0},\n",
       " {'color': 'green', 'points': 5, 'x': 3360, 'y': 0},\n",
       " {'color': 'green', 'points': 5, 'x': 3380, 'y': 0},\n",
       " {'color': 'green', 'points': 5, 'x': 3400, 'y': 0},\n",
       " {'color': 'green', 'points': 5, 'x': 3420, 'y': 0},\n",
       " {'color': 'green', 'points': 5, 'x': 3440, 'y': 0},\n",
       " {'color': 'green', 'points': 5, 'x': 3460, 'y': 0},\n",
       " {'color': 'green', 'points': 5, 'x': 3480, 'y': 0},\n",
       " {'color': 'green', 'points': 5, 'x': 3500, 'y': 0},\n",
       " {'color': 'green', 'points': 5, 'x': 3520, 'y': 0},\n",
       " {'color': 'green', 'points': 5, 'x': 3540, 'y': 0},\n",
       " {'color': 'green', 'points': 5, 'x': 3560, 'y': 0},\n",
       " {'color': 'green', 'points': 5, 'x': 3580, 'y': 0},\n",
       " {'color': 'green', 'points': 5, 'x': 3600, 'y': 0},\n",
       " {'color': 'green', 'points': 5, 'x': 3620, 'y': 0},\n",
       " {'color': 'green', 'points': 5, 'x': 3640, 'y': 0},\n",
       " {'color': 'green', 'points': 5, 'x': 3660, 'y': 0},\n",
       " {'color': 'green', 'points': 5, 'x': 3680, 'y': 0},\n",
       " {'color': 'green', 'points': 5, 'x': 3700, 'y': 0},\n",
       " {'color': 'green', 'points': 5, 'x': 3720, 'y': 0},\n",
       " {'color': 'green', 'points': 5, 'x': 3740, 'y': 0},\n",
       " {'color': 'green', 'points': 5, 'x': 3760, 'y': 0},\n",
       " {'color': 'green', 'points': 5, 'x': 3780, 'y': 0},\n",
       " {'color': 'green', 'points': 5, 'x': 3800, 'y': 0},\n",
       " {'color': 'green', 'points': 5, 'x': 3820, 'y': 0},\n",
       " {'color': 'green', 'points': 5, 'x': 3840, 'y': 0},\n",
       " {'color': 'green', 'points': 5, 'x': 3860, 'y': 0},\n",
       " {'color': 'green', 'points': 5, 'x': 3880, 'y': 0},\n",
       " {'color': 'green', 'points': 5, 'x': 3900, 'y': 0},\n",
       " {'color': 'green', 'points': 5, 'x': 3920, 'y': 0},\n",
       " {'color': 'green', 'points': 5, 'x': 3940, 'y': 0},\n",
       " {'color': 'green', 'points': 5, 'x': 3960, 'y': 0},\n",
       " {'color': 'green', 'points': 5, 'x': 3980, 'y': 0},\n",
       " {'color': 'green', 'points': 5, 'x': 4000, 'y': 0},\n",
       " {'color': 'green', 'points': 5, 'x': 4020, 'y': 0},\n",
       " {'color': 'green', 'points': 5, 'x': 4040, 'y': 0},\n",
       " {'color': 'green', 'points': 5, 'x': 4060, 'y': 0},\n",
       " {'color': 'green', 'points': 5, 'x': 4080, 'y': 0},\n",
       " {'color': 'green', 'points': 5, 'x': 4100, 'y': 0},\n",
       " {'color': 'green', 'points': 5, 'x': 4120, 'y': 0},\n",
       " {'color': 'green', 'points': 5, 'x': 4140, 'y': 0},\n",
       " {'color': 'green', 'points': 5, 'x': 4160, 'y': 0},\n",
       " {'color': 'green', 'points': 5, 'x': 4180, 'y': 0},\n",
       " {'color': 'green', 'points': 5, 'x': 4200, 'y': 0},\n",
       " {'color': 'green', 'points': 5, 'x': 4220, 'y': 0},\n",
       " {'color': 'green', 'points': 5, 'x': 4240, 'y': 0},\n",
       " {'color': 'green', 'points': 5, 'x': 4260, 'y': 0},\n",
       " {'color': 'green', 'points': 5, 'x': 4280, 'y': 0},\n",
       " {'color': 'green', 'points': 5, 'x': 4300, 'y': 0},\n",
       " {'color': 'green', 'points': 5, 'x': 4320, 'y': 0},\n",
       " {'color': 'green', 'points': 5, 'x': 4340, 'y': 0},\n",
       " {'color': 'green', 'points': 5, 'x': 4360, 'y': 0},\n",
       " {'color': 'green', 'points': 5, 'x': 4380, 'y': 0},\n",
       " {'color': 'green', 'points': 5, 'x': 4400, 'y': 0},\n",
       " {'color': 'green', 'points': 5, 'x': 4420, 'y': 0},\n",
       " {'color': 'green', 'points': 5, 'x': 4440, 'y': 0},\n",
       " {'color': 'green', 'points': 5, 'x': 4460, 'y': 0},\n",
       " {'color': 'green', 'points': 5, 'x': 4480, 'y': 0},\n",
       " {'color': 'green', 'points': 5, 'x': 4500, 'y': 0},\n",
       " {'color': 'green', 'points': 5, 'x': 4520, 'y': 0},\n",
       " {'color': 'green', 'points': 5, 'x': 4540, 'y': 0},\n",
       " {'color': 'green', 'points': 5, 'x': 4560, 'y': 0},\n",
       " {'color': 'green', 'points': 5, 'x': 4580, 'y': 0},\n",
       " {'color': 'green', 'points': 5, 'x': 4600, 'y': 0},\n",
       " {'color': 'green', 'points': 5, 'x': 4620, 'y': 0},\n",
       " {'color': 'green', 'points': 5, 'x': 4640, 'y': 0},\n",
       " {'color': 'green', 'points': 5, 'x': 4660, 'y': 0},\n",
       " {'color': 'green', 'points': 5, 'x': 4680, 'y': 0},\n",
       " {'color': 'green', 'points': 5, 'x': 4700, 'y': 0},\n",
       " {'color': 'green', 'points': 5, 'x': 4720, 'y': 0},\n",
       " {'color': 'green', 'points': 5, 'x': 4740, 'y': 0},\n",
       " {'color': 'green', 'points': 5, 'x': 4760, 'y': 0},\n",
       " {'color': 'green', 'points': 5, 'x': 4780, 'y': 0},\n",
       " {'color': 'green', 'points': 5, 'x': 4800, 'y': 0},\n",
       " {'color': 'green', 'points': 5, 'x': 4820, 'y': 0},\n",
       " {'color': 'green', 'points': 5, 'x': 4840, 'y': 0},\n",
       " {'color': 'green', 'points': 5, 'x': 4860, 'y': 0},\n",
       " {'color': 'green', 'points': 5, 'x': 4880, 'y': 0},\n",
       " {'color': 'green', 'points': 5, 'x': 4900, 'y': 0},\n",
       " {'color': 'green', 'points': 5, 'x': 4920, 'y': 0},\n",
       " {'color': 'green', 'points': 5, 'x': 4940, 'y': 0},\n",
       " {'color': 'green', 'points': 5, 'x': 4960, 'y': 0},\n",
       " {'color': 'green', 'points': 5, 'x': 4980, 'y': 0},\n",
       " {'color': 'green', 'points': 5, 'x': 5000, 'y': 0},\n",
       " {'color': 'green', 'points': 5, 'x': 5020, 'y': 0},\n",
       " {'color': 'green', 'points': 5, 'x': 5040, 'y': 0},\n",
       " {'color': 'green', 'points': 5, 'x': 5060, 'y': 0},\n",
       " {'color': 'green', 'points': 5, 'x': 5080, 'y': 0},\n",
       " {'color': 'green', 'points': 5, 'x': 5100, 'y': 0},\n",
       " {'color': 'green', 'points': 5, 'x': 5120, 'y': 0},\n",
       " {'color': 'green', 'points': 5, 'x': 5140, 'y': 0},\n",
       " {'color': 'green', 'points': 5, 'x': 5160, 'y': 0},\n",
       " {'color': 'green', 'points': 5, 'x': 5180, 'y': 0},\n",
       " {'color': 'green', 'points': 5, 'x': 5200, 'y': 0},\n",
       " {'color': 'green', 'points': 5, 'x': 5220, 'y': 0},\n",
       " {'color': 'green', 'points': 5, 'x': 5240, 'y': 0},\n",
       " {'color': 'green', 'points': 5, 'x': 5260, 'y': 0},\n",
       " {'color': 'green', 'points': 5, 'x': 5280, 'y': 0},\n",
       " {'color': 'green', 'points': 5, 'x': 5300, 'y': 0},\n",
       " {'color': 'green', 'points': 5, 'x': 5320, 'y': 0},\n",
       " {'color': 'green', 'points': 5, 'x': 5340, 'y': 0},\n",
       " {'color': 'green', 'points': 5, 'x': 5360, 'y': 0},\n",
       " {'color': 'green', 'points': 5, 'x': 5380, 'y': 0},\n",
       " {'color': 'green', 'points': 5, 'x': 5400, 'y': 0},\n",
       " {'color': 'green', 'points': 5, 'x': 5420, 'y': 0},\n",
       " {'color': 'green', 'points': 5, 'x': 5440, 'y': 0},\n",
       " {'color': 'green', 'points': 5, 'x': 5460, 'y': 0},\n",
       " {'color': 'green', 'points': 5, 'x': 5480, 'y': 0},\n",
       " {'color': 'green', 'points': 5, 'x': 5500, 'y': 0},\n",
       " {'color': 'green', 'points': 5, 'x': 5520, 'y': 0},\n",
       " {'color': 'green', 'points': 5, 'x': 5540, 'y': 0},\n",
       " {'color': 'green', 'points': 5, 'x': 5560, 'y': 0},\n",
       " {'color': 'green', 'points': 5, 'x': 5580, 'y': 0},\n",
       " {'color': 'green', 'points': 5, 'x': 5600, 'y': 0},\n",
       " {'color': 'green', 'points': 5, 'x': 5620, 'y': 0},\n",
       " {'color': 'green', 'points': 5, 'x': 5640, 'y': 0},\n",
       " {'color': 'green', 'points': 5, 'x': 5660, 'y': 0},\n",
       " {'color': 'green', 'points': 5, 'x': 5680, 'y': 0},\n",
       " {'color': 'green', 'points': 5, 'x': 5700, 'y': 0},\n",
       " {'color': 'green', 'points': 5, 'x': 5720, 'y': 0},\n",
       " {'color': 'green', 'points': 5, 'x': 5740, 'y': 0},\n",
       " {'color': 'green', 'points': 5, 'x': 5760, 'y': 0},\n",
       " {'color': 'green', 'points': 5, 'x': 5780, 'y': 0},\n",
       " {'color': 'green', 'points': 5, 'x': 5800, 'y': 0},\n",
       " {'color': 'green', 'points': 5, 'x': 5820, 'y': 0},\n",
       " {'color': 'green', 'points': 5, 'x': 5840, 'y': 0},\n",
       " {'color': 'green', 'points': 5, 'x': 5860, 'y': 0},\n",
       " {'color': 'green', 'points': 5, 'x': 5880, 'y': 0},\n",
       " {'color': 'green', 'points': 5, 'x': 5900, 'y': 0},\n",
       " {'color': 'green', 'points': 5, 'x': 5920, 'y': 0},\n",
       " {'color': 'green', 'points': 5, 'x': 5940, 'y': 0},\n",
       " {'color': 'green', 'points': 5, 'x': 5960, 'y': 0},\n",
       " {'color': 'green', 'points': 5, 'x': 5980, 'y': 0},\n",
       " {'color': 'green', 'points': 5, 'x': 6000, 'y': 0},\n",
       " {'color': 'green', 'points': 5, 'x': 6020, 'y': 0},\n",
       " {'color': 'green', 'points': 5, 'x': 6040, 'y': 0},\n",
       " {'color': 'green', 'points': 5, 'x': 6060, 'y': 0},\n",
       " {'color': 'green', 'points': 5, 'x': 6080, 'y': 0},\n",
       " {'color': 'green', 'points': 5, 'x': 6100, 'y': 0},\n",
       " {'color': 'green', 'points': 5, 'x': 6120, 'y': 0},\n",
       " {'color': 'green', 'points': 5, 'x': 6140, 'y': 0},\n",
       " {'color': 'green', 'points': 5, 'x': 6160, 'y': 0},\n",
       " {'color': 'green', 'points': 5, 'x': 6180, 'y': 0},\n",
       " {'color': 'green', 'points': 5, 'x': 6200, 'y': 0},\n",
       " {'color': 'green', 'points': 5, 'x': 6220, 'y': 0},\n",
       " {'color': 'green', 'points': 5, 'x': 6240, 'y': 0},\n",
       " {'color': 'green', 'points': 5, 'x': 6260, 'y': 0},\n",
       " {'color': 'green', 'points': 5, 'x': 6280, 'y': 0},\n",
       " {'color': 'green', 'points': 5, 'x': 6300, 'y': 0},\n",
       " {'color': 'green', 'points': 5, 'x': 6320, 'y': 0},\n",
       " {'color': 'green', 'points': 5, 'x': 6340, 'y': 0},\n",
       " {'color': 'green', 'points': 5, 'x': 6360, 'y': 0},\n",
       " {'color': 'green', 'points': 5, 'x': 6380, 'y': 0},\n",
       " {'color': 'green', 'points': 5, 'x': 6400, 'y': 0},\n",
       " {'color': 'green', 'points': 5, 'x': 6420, 'y': 0},\n",
       " {'color': 'green', 'points': 5, 'x': 6440, 'y': 0},\n",
       " {'color': 'green', 'points': 5, 'x': 6460, 'y': 0},\n",
       " {'color': 'green', 'points': 5, 'x': 6480, 'y': 0},\n",
       " {'color': 'green', 'points': 5, 'x': 6500, 'y': 0},\n",
       " {'color': 'green', 'points': 5, 'x': 6520, 'y': 0},\n",
       " {'color': 'green', 'points': 5, 'x': 6540, 'y': 0},\n",
       " {'color': 'green', 'points': 5, 'x': 6560, 'y': 0},\n",
       " {'color': 'green', 'points': 5, 'x': 6580, 'y': 0},\n",
       " {'color': 'green', 'points': 5, 'x': 6600, 'y': 0},\n",
       " {'color': 'green', 'points': 5, 'x': 6620, 'y': 0},\n",
       " {'color': 'green', 'points': 5, 'x': 6640, 'y': 0},\n",
       " {'color': 'green', 'points': 5, 'x': 6660, 'y': 0},\n",
       " {'color': 'green', 'points': 5, 'x': 6680, 'y': 0},\n",
       " {'color': 'green', 'points': 5, 'x': 6700, 'y': 0},\n",
       " {'color': 'green', 'points': 5, 'x': 6720, 'y': 0},\n",
       " {'color': 'green', 'points': 5, 'x': 6740, 'y': 0},\n",
       " {'color': 'green', 'points': 5, 'x': 6760, 'y': 0},\n",
       " {'color': 'green', 'points': 5, 'x': 6780, 'y': 0},\n",
       " {'color': 'green', 'points': 5, 'x': 6800, 'y': 0},\n",
       " {'color': 'green', 'points': 5, 'x': 6820, 'y': 0},\n",
       " {'color': 'green', 'points': 5, 'x': 6840, 'y': 0},\n",
       " {'color': 'green', 'points': 5, 'x': 6860, 'y': 0},\n",
       " {'color': 'green', 'points': 5, 'x': 6880, 'y': 0},\n",
       " {'color': 'green', 'points': 5, 'x': 6900, 'y': 0},\n",
       " {'color': 'green', 'points': 5, 'x': 6920, 'y': 0},\n",
       " {'color': 'green', 'points': 5, 'x': 6940, 'y': 0},\n",
       " {'color': 'green', 'points': 5, 'x': 6960, 'y': 0},\n",
       " {'color': 'green', 'points': 5, 'x': 6980, 'y': 0},\n",
       " {'color': 'green', 'points': 5, 'x': 7000, 'y': 0},\n",
       " {'color': 'green', 'points': 5, 'x': 7020, 'y': 0},\n",
       " {'color': 'green', 'points': 5, 'x': 7040, 'y': 0},\n",
       " {'color': 'green', 'points': 5, 'x': 7060, 'y': 0},\n",
       " {'color': 'green', 'points': 5, 'x': 7080, 'y': 0},\n",
       " {'color': 'green', 'points': 5, 'x': 7100, 'y': 0},\n",
       " {'color': 'green', 'points': 5, 'x': 7120, 'y': 0},\n",
       " {'color': 'green', 'points': 5, 'x': 7140, 'y': 0},\n",
       " {'color': 'green', 'points': 5, 'x': 7160, 'y': 0},\n",
       " {'color': 'green', 'points': 5, 'x': 7180, 'y': 0},\n",
       " {'color': 'green', 'points': 5, 'x': 7200, 'y': 0},\n",
       " {'color': 'green', 'points': 5, 'x': 7220, 'y': 0},\n",
       " {'color': 'green', 'points': 5, 'x': 7240, 'y': 0},\n",
       " {'color': 'green', 'points': 5, 'x': 7260, 'y': 0},\n",
       " {'color': 'green', 'points': 5, 'x': 7280, 'y': 0},\n",
       " {'color': 'green', 'points': 5, 'x': 7300, 'y': 0},\n",
       " {'color': 'green', 'points': 5, 'x': 7320, 'y': 0},\n",
       " {'color': 'green', 'points': 5, 'x': 7340, 'y': 0},\n",
       " {'color': 'green', 'points': 5, 'x': 7360, 'y': 0},\n",
       " {'color': 'green', 'points': 5, 'x': 7380, 'y': 0},\n",
       " {'color': 'green', 'points': 5, 'x': 7400, 'y': 0},\n",
       " {'color': 'green', 'points': 5, 'x': 7420, 'y': 0},\n",
       " {'color': 'green', 'points': 5, 'x': 7440, 'y': 0},\n",
       " {'color': 'green', 'points': 5, 'x': 7460, 'y': 0},\n",
       " {'color': 'green', 'points': 5, 'x': 7480, 'y': 0},\n",
       " {'color': 'green', 'points': 5, 'x': 7500, 'y': 0},\n",
       " {'color': 'green', 'points': 5, 'x': 7520, 'y': 0},\n",
       " {'color': 'green', 'points': 5, 'x': 7540, 'y': 0},\n",
       " {'color': 'green', 'points': 5, 'x': 7560, 'y': 0},\n",
       " {'color': 'green', 'points': 5, 'x': 7580, 'y': 0},\n",
       " {'color': 'green', 'points': 5, 'x': 7600, 'y': 0},\n",
       " {'color': 'green', 'points': 5, 'x': 7620, 'y': 0},\n",
       " {'color': 'green', 'points': 5, 'x': 7640, 'y': 0},\n",
       " {'color': 'green', 'points': 5, 'x': 7660, 'y': 0},\n",
       " {'color': 'green', 'points': 5, 'x': 7680, 'y': 0},\n",
       " {'color': 'green', 'points': 5, 'x': 7700, 'y': 0},\n",
       " {'color': 'green', 'points': 5, 'x': 7720, 'y': 0},\n",
       " {'color': 'green', 'points': 5, 'x': 7740, 'y': 0},\n",
       " {'color': 'green', 'points': 5, 'x': 7760, 'y': 0},\n",
       " {'color': 'green', 'points': 5, 'x': 7780, 'y': 0},\n",
       " {'color': 'green', 'points': 5, 'x': 7800, 'y': 0},\n",
       " {'color': 'green', 'points': 5, 'x': 7820, 'y': 0},\n",
       " {'color': 'green', 'points': 5, 'x': 7840, 'y': 0},\n",
       " {'color': 'green', 'points': 5, 'x': 7860, 'y': 0},\n",
       " {'color': 'green', 'points': 5, 'x': 7880, 'y': 0},\n",
       " {'color': 'green', 'points': 5, 'x': 7900, 'y': 0},\n",
       " {'color': 'green', 'points': 5, 'x': 7920, 'y': 0},\n",
       " {'color': 'green', 'points': 5, 'x': 7940, 'y': 0},\n",
       " {'color': 'green', 'points': 5, 'x': 7960, 'y': 0},\n",
       " {'color': 'green', 'points': 5, 'x': 7980, 'y': 0},\n",
       " {'color': 'green', 'points': 5, 'x': 8000, 'y': 0},\n",
       " {'color': 'green', 'points': 5, 'x': 8020, 'y': 0},\n",
       " {'color': 'green', 'points': 5, 'x': 8040, 'y': 0},\n",
       " {'color': 'green', 'points': 5, 'x': 8060, 'y': 0},\n",
       " {'color': 'green', 'points': 5, 'x': 8080, 'y': 0},\n",
       " {'color': 'green', 'points': 5, 'x': 8100, 'y': 0},\n",
       " {'color': 'green', 'points': 5, 'x': 8120, 'y': 0},\n",
       " {'color': 'green', 'points': 5, 'x': 8140, 'y': 0},\n",
       " {'color': 'green', 'points': 5, 'x': 8160, 'y': 0},\n",
       " {'color': 'green', 'points': 5, 'x': 8180, 'y': 0},\n",
       " {'color': 'green', 'points': 5, 'x': 8200, 'y': 0},\n",
       " {'color': 'green', 'points': 5, 'x': 8220, 'y': 0},\n",
       " {'color': 'green', 'points': 5, 'x': 8240, 'y': 0},\n",
       " {'color': 'green', 'points': 5, 'x': 8260, 'y': 0},\n",
       " {'color': 'green', 'points': 5, 'x': 8280, 'y': 0},\n",
       " {'color': 'green', 'points': 5, 'x': 8300, 'y': 0},\n",
       " {'color': 'green', 'points': 5, 'x': 8320, 'y': 0},\n",
       " {'color': 'green', 'points': 5, 'x': 8340, 'y': 0},\n",
       " {'color': 'green', 'points': 5, 'x': 8360, 'y': 0},\n",
       " {'color': 'green', 'points': 5, 'x': 8380, 'y': 0},\n",
       " {'color': 'green', 'points': 5, 'x': 8400, 'y': 0},\n",
       " {'color': 'green', 'points': 5, 'x': 8420, 'y': 0},\n",
       " {'color': 'green', 'points': 5, 'x': 8440, 'y': 0},\n",
       " {'color': 'green', 'points': 5, 'x': 8460, 'y': 0},\n",
       " {'color': 'green', 'points': 5, 'x': 8480, 'y': 0},\n",
       " {'color': 'green', 'points': 5, 'x': 8500, 'y': 0},\n",
       " {'color': 'green', 'points': 5, 'x': 8520, 'y': 0},\n",
       " {'color': 'green', 'points': 5, 'x': 8540, 'y': 0},\n",
       " {'color': 'green', 'points': 5, 'x': 8560, 'y': 0},\n",
       " {'color': 'green', 'points': 5, 'x': 8580, 'y': 0},\n",
       " {'color': 'green', 'points': 5, 'x': 8600, 'y': 0},\n",
       " {'color': 'green', 'points': 5, 'x': 8620, 'y': 0},\n",
       " {'color': 'green', 'points': 5, 'x': 8640, 'y': 0},\n",
       " {'color': 'green', 'points': 5, 'x': 8660, 'y': 0},\n",
       " {'color': 'green', 'points': 5, 'x': 8680, 'y': 0},\n",
       " {'color': 'green', 'points': 5, 'x': 8700, 'y': 0},\n",
       " {'color': 'green', 'points': 5, 'x': 8720, 'y': 0},\n",
       " {'color': 'green', 'points': 5, 'x': 8740, 'y': 0},\n",
       " {'color': 'green', 'points': 5, 'x': 8760, 'y': 0},\n",
       " {'color': 'green', 'points': 5, 'x': 8780, 'y': 0},\n",
       " {'color': 'green', 'points': 5, 'x': 8800, 'y': 0},\n",
       " {'color': 'green', 'points': 5, 'x': 8820, 'y': 0},\n",
       " {'color': 'green', 'points': 5, 'x': 8840, 'y': 0},\n",
       " {'color': 'green', 'points': 5, 'x': 8860, 'y': 0},\n",
       " {'color': 'green', 'points': 5, 'x': 8880, 'y': 0},\n",
       " {'color': 'green', 'points': 5, 'x': 8900, 'y': 0},\n",
       " {'color': 'green', 'points': 5, 'x': 8920, 'y': 0},\n",
       " {'color': 'green', 'points': 5, 'x': 8940, 'y': 0},\n",
       " {'color': 'green', 'points': 5, 'x': 8960, 'y': 0},\n",
       " {'color': 'green', 'points': 5, 'x': 8980, 'y': 0},\n",
       " {'color': 'green', 'points': 5, 'x': 9000, 'y': 0},\n",
       " {'color': 'green', 'points': 5, 'x': 9020, 'y': 0},\n",
       " {'color': 'green', 'points': 5, 'x': 9040, 'y': 0},\n",
       " {'color': 'green', 'points': 5, 'x': 9060, 'y': 0},\n",
       " {'color': 'green', 'points': 5, 'x': 9080, 'y': 0},\n",
       " {'color': 'green', 'points': 5, 'x': 9100, 'y': 0},\n",
       " {'color': 'green', 'points': 5, 'x': 9120, 'y': 0},\n",
       " {'color': 'green', 'points': 5, 'x': 9140, 'y': 0},\n",
       " {'color': 'green', 'points': 5, 'x': 9160, 'y': 0},\n",
       " {'color': 'green', 'points': 5, 'x': 9180, 'y': 0},\n",
       " {'color': 'green', 'points': 5, 'x': 9200, 'y': 0},\n",
       " {'color': 'green', 'points': 5, 'x': 9220, 'y': 0},\n",
       " {'color': 'green', 'points': 5, 'x': 9240, 'y': 0},\n",
       " {'color': 'green', 'points': 5, 'x': 9260, 'y': 0},\n",
       " {'color': 'green', 'points': 5, 'x': 9280, 'y': 0},\n",
       " {'color': 'green', 'points': 5, 'x': 9300, 'y': 0},\n",
       " {'color': 'green', 'points': 5, 'x': 9320, 'y': 0},\n",
       " {'color': 'green', 'points': 5, 'x': 9340, 'y': 0},\n",
       " {'color': 'green', 'points': 5, 'x': 9360, 'y': 0},\n",
       " {'color': 'green', 'points': 5, 'x': 9380, 'y': 0},\n",
       " {'color': 'green', 'points': 5, 'x': 9400, 'y': 0},\n",
       " {'color': 'green', 'points': 5, 'x': 9420, 'y': 0},\n",
       " {'color': 'green', 'points': 5, 'x': 9440, 'y': 0},\n",
       " {'color': 'green', 'points': 5, 'x': 9460, 'y': 0},\n",
       " {'color': 'green', 'points': 5, 'x': 9480, 'y': 0},\n",
       " {'color': 'green', 'points': 5, 'x': 9500, 'y': 0},\n",
       " {'color': 'green', 'points': 5, 'x': 9520, 'y': 0},\n",
       " {'color': 'green', 'points': 5, 'x': 9540, 'y': 0},\n",
       " {'color': 'green', 'points': 5, 'x': 9560, 'y': 0},\n",
       " {'color': 'green', 'points': 5, 'x': 9580, 'y': 0},\n",
       " {'color': 'green', 'points': 5, 'x': 9600, 'y': 0},\n",
       " {'color': 'green', 'points': 5, 'x': 9620, 'y': 0},\n",
       " {'color': 'green', 'points': 5, 'x': 9640, 'y': 0},\n",
       " {'color': 'green', 'points': 5, 'x': 9660, 'y': 0},\n",
       " {'color': 'green', 'points': 5, 'x': 9680, 'y': 0},\n",
       " {'color': 'green', 'points': 5, 'x': 9700, 'y': 0},\n",
       " {'color': 'green', 'points': 5, 'x': 9720, 'y': 0},\n",
       " {'color': 'green', 'points': 5, 'x': 9740, 'y': 0},\n",
       " {'color': 'green', 'points': 5, 'x': 9760, 'y': 0},\n",
       " {'color': 'green', 'points': 5, 'x': 9780, 'y': 0},\n",
       " {'color': 'green', 'points': 5, 'x': 9800, 'y': 0},\n",
       " {'color': 'green', 'points': 5, 'x': 9820, 'y': 0},\n",
       " {'color': 'green', 'points': 5, 'x': 9840, 'y': 0},\n",
       " {'color': 'green', 'points': 5, 'x': 9860, 'y': 0},\n",
       " {'color': 'green', 'points': 5, 'x': 9880, 'y': 0},\n",
       " {'color': 'green', 'points': 5, 'x': 9900, 'y': 0},\n",
       " {'color': 'green', 'points': 5, 'x': 9920, 'y': 0},\n",
       " {'color': 'green', 'points': 5, 'x': 9940, 'y': 0},\n",
       " {'color': 'green', 'points': 5, 'x': 9960, 'y': 0},\n",
       " {'color': 'green', 'points': 5, 'x': 9980, 'y': 0},\n",
       " {'color': 'green', 'points': 5, 'x': 10000, 'y': 0},\n",
       " {'color': 'green', 'points': 5, 'x': 10020, 'y': 0},\n",
       " {'color': 'green', 'points': 5, 'x': 10040, 'y': 0},\n",
       " {'color': 'green', 'points': 5, 'x': 10060, 'y': 0},\n",
       " {'color': 'green', 'points': 5, 'x': 10080, 'y': 0},\n",
       " {'color': 'green', 'points': 5, 'x': 10100, 'y': 0},\n",
       " {'color': 'green', 'points': 5, 'x': 10120, 'y': 0},\n",
       " {'color': 'green', 'points': 5, 'x': 10140, 'y': 0},\n",
       " {'color': 'green', 'points': 5, 'x': 10160, 'y': 0},\n",
       " {'color': 'green', 'points': 5, 'x': 10180, 'y': 0},\n",
       " {'color': 'green', 'points': 5, 'x': 10200, 'y': 0},\n",
       " {'color': 'green', 'points': 5, 'x': 10220, 'y': 0},\n",
       " {'color': 'green', 'points': 5, 'x': 10240, 'y': 0},\n",
       " {'color': 'green', 'points': 5, 'x': 10260, 'y': 0},\n",
       " {'color': 'green', 'points': 5, 'x': 10280, 'y': 0},\n",
       " {'color': 'green', 'points': 5, 'x': 10300, 'y': 0},\n",
       " {'color': 'green', 'points': 5, 'x': 10320, 'y': 0},\n",
       " {'color': 'green', 'points': 5, 'x': 10340, 'y': 0},\n",
       " {'color': 'green', 'points': 5, 'x': 10360, 'y': 0},\n",
       " {'color': 'green', 'points': 5, 'x': 10380, 'y': 0},\n",
       " {'color': 'green', 'points': 5, 'x': 10400, 'y': 0},\n",
       " {'color': 'green', 'points': 5, 'x': 10420, 'y': 0},\n",
       " {'color': 'green', 'points': 5, 'x': 10440, 'y': 0},\n",
       " {'color': 'green', 'points': 5, 'x': 10460, 'y': 0},\n",
       " {'color': 'green', 'points': 5, 'x': 10480, 'y': 0},\n",
       " {'color': 'green', 'points': 5, 'x': 10500, 'y': 0},\n",
       " {'color': 'green', 'points': 5, 'x': 10520, 'y': 0},\n",
       " {'color': 'green', 'points': 5, 'x': 10540, 'y': 0},\n",
       " {'color': 'green', 'points': 5, 'x': 10560, 'y': 0},\n",
       " {'color': 'green', 'points': 5, 'x': 10580, 'y': 0},\n",
       " {'color': 'green', 'points': 5, 'x': 10600, 'y': 0},\n",
       " {'color': 'green', 'points': 5, 'x': 10620, 'y': 0},\n",
       " {'color': 'green', 'points': 5, 'x': 10640, 'y': 0},\n",
       " {'color': 'green', 'points': 5, 'x': 10660, 'y': 0},\n",
       " {'color': 'green', 'points': 5, 'x': 10680, 'y': 0},\n",
       " {'color': 'green', 'points': 5, 'x': 10700, 'y': 0},\n",
       " {'color': 'green', 'points': 5, 'x': 10720, 'y': 0},\n",
       " {'color': 'green', 'points': 5, 'x': 10740, 'y': 0},\n",
       " {'color': 'green', 'points': 5, 'x': 10760, 'y': 0},\n",
       " {'color': 'green', 'points': 5, 'x': 10780, 'y': 0},\n",
       " {'color': 'green', 'points': 5, 'x': 10800, 'y': 0},\n",
       " {'color': 'green', 'points': 5, 'x': 10820, 'y': 0},\n",
       " {'color': 'green', 'points': 5, 'x': 10840, 'y': 0},\n",
       " {'color': 'green', 'points': 5, 'x': 10860, 'y': 0},\n",
       " {'color': 'green', 'points': 5, 'x': 10880, 'y': 0},\n",
       " {'color': 'green', 'points': 5, 'x': 10900, 'y': 0},\n",
       " {'color': 'green', 'points': 5, 'x': 10920, 'y': 0},\n",
       " {'color': 'green', 'points': 5, 'x': 10940, 'y': 0},\n",
       " {'color': 'green', 'points': 5, 'x': 10960, 'y': 0},\n",
       " {'color': 'green', 'points': 5, 'x': 10980, 'y': 0},\n",
       " {'color': 'green', 'points': 5, 'x': 11000, 'y': 0},\n",
       " {'color': 'green', 'points': 5, 'x': 11020, 'y': 0},\n",
       " {'color': 'green', 'points': 5, 'x': 11040, 'y': 0},\n",
       " {'color': 'green', 'points': 5, 'x': 11060, 'y': 0},\n",
       " {'color': 'green', 'points': 5, 'x': 11080, 'y': 0},\n",
       " {'color': 'green', 'points': 5, 'x': 11100, 'y': 0},\n",
       " {'color': 'green', 'points': 5, 'x': 11120, 'y': 0},\n",
       " {'color': 'green', 'points': 5, 'x': 11140, 'y': 0},\n",
       " {'color': 'green', 'points': 5, 'x': 11160, 'y': 0},\n",
       " {'color': 'green', 'points': 5, 'x': 11180, 'y': 0},\n",
       " {'color': 'green', 'points': 5, 'x': 11200, 'y': 0},\n",
       " {'color': 'green', 'points': 5, 'x': 11220, 'y': 0},\n",
       " {'color': 'green', 'points': 5, 'x': 11240, 'y': 0},\n",
       " {'color': 'green', 'points': 5, 'x': 11260, 'y': 0},\n",
       " {'color': 'green', 'points': 5, 'x': 11280, 'y': 0},\n",
       " {'color': 'green', 'points': 5, 'x': 11300, 'y': 0},\n",
       " {'color': 'green', 'points': 5, 'x': 11320, 'y': 0},\n",
       " {'color': 'green', 'points': 5, 'x': 11340, 'y': 0},\n",
       " {'color': 'green', 'points': 5, 'x': 11360, 'y': 0},\n",
       " {'color': 'green', 'points': 5, 'x': 11380, 'y': 0},\n",
       " {'color': 'green', 'points': 5, 'x': 11400, 'y': 0},\n",
       " {'color': 'green', 'points': 5, 'x': 11420, 'y': 0},\n",
       " {'color': 'green', 'points': 5, 'x': 11440, 'y': 0},\n",
       " {'color': 'green', 'points': 5, 'x': 11460, 'y': 0},\n",
       " {'color': 'green', 'points': 5, 'x': 11480, 'y': 0},\n",
       " {'color': 'green', 'points': 5, 'x': 11500, 'y': 0},\n",
       " {'color': 'green', 'points': 5, 'x': 11520, 'y': 0},\n",
       " {'color': 'green', 'points': 5, 'x': 11540, 'y': 0},\n",
       " {'color': 'green', 'points': 5, 'x': 11560, 'y': 0},\n",
       " {'color': 'green', 'points': 5, 'x': 11580, 'y': 0},\n",
       " {'color': 'green', 'points': 5, 'x': 11600, 'y': 0},\n",
       " {'color': 'green', 'points': 5, 'x': 11620, 'y': 0},\n",
       " {'color': 'green', 'points': 5, 'x': 11640, 'y': 0},\n",
       " {'color': 'green', 'points': 5, 'x': 11660, 'y': 0},\n",
       " {'color': 'green', 'points': 5, 'x': 11680, 'y': 0},\n",
       " {'color': 'green', 'points': 5, 'x': 11700, 'y': 0},\n",
       " {'color': 'green', 'points': 5, 'x': 11720, 'y': 0},\n",
       " {'color': 'green', 'points': 5, 'x': 11740, 'y': 0},\n",
       " {'color': 'green', 'points': 5, 'x': 11760, 'y': 0},\n",
       " {'color': 'green', 'points': 5, 'x': 11780, 'y': 0},\n",
       " {'color': 'green', 'points': 5, 'x': 11800, 'y': 0},\n",
       " {'color': 'green', 'points': 5, 'x': 11820, 'y': 0},\n",
       " {'color': 'green', 'points': 5, 'x': 11840, 'y': 0},\n",
       " {'color': 'green', 'points': 5, 'x': 11860, 'y': 0},\n",
       " {'color': 'green', 'points': 5, 'x': 11880, 'y': 0},\n",
       " {'color': 'green', 'points': 5, 'x': 11900, 'y': 0},\n",
       " {'color': 'green', 'points': 5, 'x': 11920, 'y': 0},\n",
       " {'color': 'green', 'points': 5, 'x': 11940, 'y': 0},\n",
       " {'color': 'green', 'points': 5, 'x': 11960, 'y': 0},\n",
       " {'color': 'green', 'points': 5, 'x': 11980, 'y': 0},\n",
       " {'color': 'green', 'points': 5, 'x': 12000, 'y': 0},\n",
       " {'color': 'green', 'points': 5, 'x': 12020, 'y': 0},\n",
       " {'color': 'green', 'points': 5, 'x': 12040, 'y': 0},\n",
       " {'color': 'green', 'points': 5, 'x': 12060, 'y': 0},\n",
       " {'color': 'green', 'points': 5, 'x': 12080, 'y': 0},\n",
       " {'color': 'green', 'points': 5, 'x': 12100, 'y': 0},\n",
       " {'color': 'green', 'points': 5, 'x': 12120, 'y': 0},\n",
       " {'color': 'green', 'points': 5, 'x': 12140, 'y': 0},\n",
       " {'color': 'green', 'points': 5, 'x': 12160, 'y': 0},\n",
       " {'color': 'green', 'points': 5, 'x': 12180, 'y': 0},\n",
       " {'color': 'green', 'points': 5, 'x': 12200, 'y': 0},\n",
       " {'color': 'green', 'points': 5, 'x': 12220, 'y': 0},\n",
       " {'color': 'green', 'points': 5, 'x': 12240, 'y': 0},\n",
       " {'color': 'green', 'points': 5, 'x': 12260, 'y': 0},\n",
       " {'color': 'green', 'points': 5, 'x': 12280, 'y': 0},\n",
       " {'color': 'green', 'points': 5, 'x': 12300, 'y': 0},\n",
       " {'color': 'green', 'points': 5, 'x': 12320, 'y': 0},\n",
       " {'color': 'green', 'points': 5, 'x': 12340, 'y': 0},\n",
       " {'color': 'green', 'points': 5, 'x': 12360, 'y': 0},\n",
       " {'color': 'green', 'points': 5, 'x': 12380, 'y': 0},\n",
       " {'color': 'green', 'points': 5, 'x': 12400, 'y': 0},\n",
       " {'color': 'green', 'points': 5, 'x': 12420, 'y': 0},\n",
       " {'color': 'green', 'points': 5, 'x': 12440, 'y': 0},\n",
       " {'color': 'green', 'points': 5, 'x': 12460, 'y': 0},\n",
       " {'color': 'green', 'points': 5, 'x': 12480, 'y': 0},\n",
       " {'color': 'green', 'points': 5, 'x': 12500, 'y': 0},\n",
       " {'color': 'green', 'points': 5, 'x': 12520, 'y': 0},\n",
       " {'color': 'green', 'points': 5, 'x': 12540, 'y': 0},\n",
       " {'color': 'green', 'points': 5, 'x': 12560, 'y': 0},\n",
       " {'color': 'green', 'points': 5, 'x': 12580, 'y': 0},\n",
       " {'color': 'green', 'points': 5, 'x': 12600, 'y': 0},\n",
       " {'color': 'green', 'points': 5, 'x': 12620, 'y': 0},\n",
       " {'color': 'green', 'points': 5, 'x': 12640, 'y': 0},\n",
       " {'color': 'green', 'points': 5, 'x': 12660, 'y': 0},\n",
       " {'color': 'green', 'points': 5, 'x': 12680, 'y': 0},\n",
       " {'color': 'green', 'points': 5, 'x': 12700, 'y': 0},\n",
       " {'color': 'green', 'points': 5, 'x': 12720, 'y': 0},\n",
       " {'color': 'green', 'points': 5, 'x': 12740, 'y': 0},\n",
       " {'color': 'green', 'points': 5, 'x': 12760, 'y': 0},\n",
       " {'color': 'green', 'points': 5, 'x': 12780, 'y': 0},\n",
       " {'color': 'green', 'points': 5, 'x': 12800, 'y': 0},\n",
       " {'color': 'green', 'points': 5, 'x': 12820, 'y': 0},\n",
       " {'color': 'green', 'points': 5, 'x': 12840, 'y': 0},\n",
       " {'color': 'green', 'points': 5, 'x': 12860, 'y': 0},\n",
       " {'color': 'green', 'points': 5, 'x': 12880, 'y': 0},\n",
       " {'color': 'green', 'points': 5, 'x': 12900, 'y': 0},\n",
       " {'color': 'green', 'points': 5, 'x': 12920, 'y': 0},\n",
       " {'color': 'green', 'points': 5, 'x': 12940, 'y': 0},\n",
       " {'color': 'green', 'points': 5, 'x': 12960, 'y': 0},\n",
       " {'color': 'green', 'points': 5, 'x': 12980, 'y': 0},\n",
       " {'color': 'green', 'points': 5, 'x': 13000, 'y': 0},\n",
       " {'color': 'green', 'points': 5, 'x': 13020, 'y': 0},\n",
       " {'color': 'green', 'points': 5, 'x': 13040, 'y': 0},\n",
       " {'color': 'green', 'points': 5, 'x': 13060, 'y': 0},\n",
       " {'color': 'green', 'points': 5, 'x': 13080, 'y': 0},\n",
       " {'color': 'green', 'points': 5, 'x': 13100, 'y': 0},\n",
       " {'color': 'green', 'points': 5, 'x': 13120, 'y': 0},\n",
       " {'color': 'green', 'points': 5, 'x': 13140, 'y': 0},\n",
       " {'color': 'green', 'points': 5, 'x': 13160, 'y': 0},\n",
       " {'color': 'green', 'points': 5, 'x': 13180, 'y': 0},\n",
       " {'color': 'green', 'points': 5, 'x': 13200, 'y': 0},\n",
       " {'color': 'green', 'points': 5, 'x': 13220, 'y': 0},\n",
       " {'color': 'green', 'points': 5, 'x': 13240, 'y': 0},\n",
       " {'color': 'green', 'points': 5, 'x': 13260, 'y': 0},\n",
       " {'color': 'green', 'points': 5, 'x': 13280, 'y': 0},\n",
       " {'color': 'green', 'points': 5, 'x': 13300, 'y': 0},\n",
       " {'color': 'green', 'points': 5, 'x': 13320, 'y': 0},\n",
       " {'color': 'green', 'points': 5, 'x': 13340, 'y': 0},\n",
       " {'color': 'green', 'points': 5, 'x': 13360, 'y': 0},\n",
       " {'color': 'green', 'points': 5, 'x': 13380, 'y': 0},\n",
       " {'color': 'green', 'points': 5, 'x': 13400, 'y': 0},\n",
       " {'color': 'green', 'points': 5, 'x': 13420, 'y': 0},\n",
       " {'color': 'green', 'points': 5, 'x': 13440, 'y': 0},\n",
       " {'color': 'green', 'points': 5, 'x': 13460, 'y': 0},\n",
       " {'color': 'green', 'points': 5, 'x': 13480, 'y': 0},\n",
       " {'color': 'green', 'points': 5, 'x': 13500, 'y': 0},\n",
       " {'color': 'green', 'points': 5, 'x': 13520, 'y': 0},\n",
       " {'color': 'green', 'points': 5, 'x': 13540, 'y': 0},\n",
       " {'color': 'green', 'points': 5, 'x': 13560, 'y': 0},\n",
       " {'color': 'green', 'points': 5, 'x': 13580, 'y': 0},\n",
       " {'color': 'green', 'points': 5, 'x': 13600, 'y': 0},\n",
       " {'color': 'green', 'points': 5, 'x': 13620, 'y': 0},\n",
       " {'color': 'green', 'points': 5, 'x': 13640, 'y': 0},\n",
       " {'color': 'green', 'points': 5, 'x': 13660, 'y': 0},\n",
       " {'color': 'green', 'points': 5, 'x': 13680, 'y': 0},\n",
       " {'color': 'green', 'points': 5, 'x': 13700, 'y': 0},\n",
       " {'color': 'green', 'points': 5, 'x': 13720, 'y': 0},\n",
       " {'color': 'green', 'points': 5, 'x': 13740, 'y': 0},\n",
       " {'color': 'green', 'points': 5, 'x': 13760, 'y': 0},\n",
       " {'color': 'green', 'points': 5, 'x': 13780, 'y': 0},\n",
       " {'color': 'green', 'points': 5, 'x': 13800, 'y': 0},\n",
       " {'color': 'green', 'points': 5, 'x': 13820, 'y': 0},\n",
       " {'color': 'green', 'points': 5, 'x': 13840, 'y': 0},\n",
       " {'color': 'green', 'points': 5, 'x': 13860, 'y': 0},\n",
       " {'color': 'green', 'points': 5, 'x': 13880, 'y': 0},\n",
       " {'color': 'green', 'points': 5, 'x': 13900, 'y': 0},\n",
       " {'color': 'green', 'points': 5, 'x': 13920, 'y': 0},\n",
       " {'color': 'green', 'points': 5, 'x': 13940, 'y': 0},\n",
       " {'color': 'green', 'points': 5, 'x': 13960, 'y': 0},\n",
       " {'color': 'green', 'points': 5, 'x': 13980, 'y': 0},\n",
       " {'color': 'green', 'points': 5, 'x': 14000, 'y': 0},\n",
       " {'color': 'green', 'points': 5, 'x': 14020, 'y': 0},\n",
       " {'color': 'green', 'points': 5, 'x': 14040, 'y': 0},\n",
       " {'color': 'green', 'points': 5, 'x': 14060, 'y': 0},\n",
       " {'color': 'green', 'points': 5, 'x': 14080, 'y': 0},\n",
       " {'color': 'green', 'points': 5, 'x': 14100, 'y': 0},\n",
       " {'color': 'green', 'points': 5, 'x': 14120, 'y': 0},\n",
       " {'color': 'green', 'points': 5, 'x': 14140, 'y': 0},\n",
       " {'color': 'green', 'points': 5, 'x': 14160, 'y': 0},\n",
       " {'color': 'green', 'points': 5, 'x': 14180, 'y': 0},\n",
       " {'color': 'green', 'points': 5, 'x': 14200, 'y': 0},\n",
       " {'color': 'green', 'points': 5, 'x': 14220, 'y': 0},\n",
       " {'color': 'green', 'points': 5, 'x': 14240, 'y': 0},\n",
       " {'color': 'green', 'points': 5, 'x': 14260, 'y': 0},\n",
       " {'color': 'green', 'points': 5, 'x': 14280, 'y': 0},\n",
       " {'color': 'green', 'points': 5, 'x': 14300, 'y': 0},\n",
       " {'color': 'green', 'points': 5, 'x': 14320, 'y': 0},\n",
       " {'color': 'green', 'points': 5, 'x': 14340, 'y': 0},\n",
       " {'color': 'green', 'points': 5, 'x': 14360, 'y': 0},\n",
       " {'color': 'green', 'points': 5, 'x': 14380, 'y': 0},\n",
       " {'color': 'green', 'points': 5, 'x': 14400, 'y': 0},\n",
       " {'color': 'green', 'points': 5, 'x': 14420, 'y': 0},\n",
       " {'color': 'green', 'points': 5, 'x': 14440, 'y': 0},\n",
       " {'color': 'green', 'points': 5, 'x': 14460, 'y': 0},\n",
       " {'color': 'green', 'points': 5, 'x': 14480, 'y': 0},\n",
       " {'color': 'green', 'points': 5, 'x': 14500, 'y': 0},\n",
       " {'color': 'green', 'points': 5, 'x': 14520, 'y': 0},\n",
       " {'color': 'green', 'points': 5, 'x': 14540, 'y': 0},\n",
       " {'color': 'green', 'points': 5, 'x': 14560, 'y': 0},\n",
       " {'color': 'green', 'points': 5, 'x': 14580, 'y': 0},\n",
       " {'color': 'green', 'points': 5, 'x': 14600, 'y': 0},\n",
       " {'color': 'green', 'points': 5, 'x': 14620, 'y': 0},\n",
       " {'color': 'green', 'points': 5, 'x': 14640, 'y': 0},\n",
       " {'color': 'green', 'points': 5, 'x': 14660, 'y': 0},\n",
       " {'color': 'green', 'points': 5, 'x': 14680, 'y': 0},\n",
       " {'color': 'green', 'points': 5, 'x': 14700, 'y': 0},\n",
       " {'color': 'green', 'points': 5, 'x': 14720, 'y': 0},\n",
       " {'color': 'green', 'points': 5, 'x': 14740, 'y': 0},\n",
       " {'color': 'green', 'points': 5, 'x': 14760, 'y': 0},\n",
       " {'color': 'green', 'points': 5, 'x': 14780, 'y': 0},\n",
       " {'color': 'green', 'points': 5, 'x': 14800, 'y': 0},\n",
       " {'color': 'green', 'points': 5, 'x': 14820, 'y': 0},\n",
       " {'color': 'green', 'points': 5, 'x': 14840, 'y': 0},\n",
       " {'color': 'green', 'points': 5, 'x': 14860, 'y': 0},\n",
       " {'color': 'green', 'points': 5, 'x': 14880, 'y': 0},\n",
       " {'color': 'green', 'points': 5, 'x': 14900, 'y': 0},\n",
       " {'color': 'green', 'points': 5, 'x': 14920, 'y': 0},\n",
       " {'color': 'green', 'points': 5, 'x': 14940, 'y': 0},\n",
       " {'color': 'green', 'points': 5, 'x': 14960, 'y': 0},\n",
       " {'color': 'green', 'points': 5, 'x': 14980, 'y': 0},\n",
       " {'color': 'green', 'points': 5, 'x': 15000, 'y': 0},\n",
       " {'color': 'green', 'points': 5, 'x': 15020, 'y': 0},\n",
       " {'color': 'green', 'points': 5, 'x': 15040, 'y': 0},\n",
       " {'color': 'green', 'points': 5, 'x': 15060, 'y': 0},\n",
       " {'color': 'green', 'points': 5, 'x': 15080, 'y': 0},\n",
       " {'color': 'green', 'points': 5, 'x': 15100, 'y': 0},\n",
       " {'color': 'green', 'points': 5, 'x': 15120, 'y': 0},\n",
       " {'color': 'green', 'points': 5, 'x': 15140, 'y': 0},\n",
       " {'color': 'green', 'points': 5, 'x': 15160, 'y': 0},\n",
       " {'color': 'green', 'points': 5, 'x': 15180, 'y': 0},\n",
       " {'color': 'green', 'points': 5, 'x': 15200, 'y': 0},\n",
       " {'color': 'green', 'points': 5, 'x': 15220, 'y': 0},\n",
       " {'color': 'green', 'points': 5, 'x': 15240, 'y': 0},\n",
       " {'color': 'green', 'points': 5, 'x': 15260, 'y': 0},\n",
       " {'color': 'green', 'points': 5, 'x': 15280, 'y': 0},\n",
       " {'color': 'green', 'points': 5, 'x': 15300, 'y': 0},\n",
       " {'color': 'green', 'points': 5, 'x': 15320, 'y': 0},\n",
       " {'color': 'green', 'points': 5, 'x': 15340, 'y': 0},\n",
       " {'color': 'green', 'points': 5, 'x': 15360, 'y': 0},\n",
       " {'color': 'green', 'points': 5, 'x': 15380, 'y': 0},\n",
       " {'color': 'green', 'points': 5, 'x': 15400, 'y': 0},\n",
       " {'color': 'green', 'points': 5, 'x': 15420, 'y': 0},\n",
       " {'color': 'green', 'points': 5, 'x': 15440, 'y': 0},\n",
       " {'color': 'green', 'points': 5, 'x': 15460, 'y': 0},\n",
       " {'color': 'green', 'points': 5, 'x': 15480, 'y': 0},\n",
       " {'color': 'green', 'points': 5, 'x': 15500, 'y': 0},\n",
       " {'color': 'green', 'points': 5, 'x': 15520, 'y': 0},\n",
       " {'color': 'green', 'points': 5, 'x': 15540, 'y': 0},\n",
       " {'color': 'green', 'points': 5, 'x': 15560, 'y': 0},\n",
       " {'color': 'green', 'points': 5, 'x': 15580, 'y': 0},\n",
       " {'color': 'green', 'points': 5, 'x': 15600, 'y': 0},\n",
       " {'color': 'green', 'points': 5, 'x': 15620, 'y': 0},\n",
       " {'color': 'green', 'points': 5, 'x': 15640, 'y': 0},\n",
       " {'color': 'green', 'points': 5, 'x': 15660, 'y': 0},\n",
       " {'color': 'green', 'points': 5, 'x': 15680, 'y': 0},\n",
       " {'color': 'green', 'points': 5, 'x': 15700, 'y': 0},\n",
       " {'color': 'green', 'points': 5, 'x': 15720, 'y': 0},\n",
       " {'color': 'green', 'points': 5, 'x': 15740, 'y': 0},\n",
       " {'color': 'green', 'points': 5, 'x': 15760, 'y': 0},\n",
       " {'color': 'green', 'points': 5, 'x': 15780, 'y': 0},\n",
       " {'color': 'green', 'points': 5, 'x': 15800, 'y': 0},\n",
       " {'color': 'green', 'points': 5, 'x': 15820, 'y': 0},\n",
       " {'color': 'green', 'points': 5, 'x': 15840, 'y': 0},\n",
       " {'color': 'green', 'points': 5, 'x': 15860, 'y': 0},\n",
       " {'color': 'green', 'points': 5, 'x': 15880, 'y': 0},\n",
       " {'color': 'green', 'points': 5, 'x': 15900, 'y': 0},\n",
       " {'color': 'green', 'points': 5, 'x': 15920, 'y': 0},\n",
       " {'color': 'green', 'points': 5, 'x': 15940, 'y': 0},\n",
       " {'color': 'green', 'points': 5, 'x': 15960, 'y': 0},\n",
       " {'color': 'green', 'points': 5, 'x': 15980, 'y': 0},\n",
       " {'color': 'green', 'points': 5, 'x': 16000, 'y': 0},\n",
       " {'color': 'green', 'points': 5, 'x': 16020, 'y': 0},\n",
       " {'color': 'green', 'points': 5, 'x': 16040, 'y': 0},\n",
       " {'color': 'green', 'points': 5, 'x': 16060, 'y': 0},\n",
       " {'color': 'green', 'points': 5, 'x': 16080, 'y': 0},\n",
       " {'color': 'green', 'points': 5, 'x': 16100, 'y': 0},\n",
       " {'color': 'green', 'points': 5, 'x': 16120, 'y': 0},\n",
       " {'color': 'green', 'points': 5, 'x': 16140, 'y': 0},\n",
       " {'color': 'green', 'points': 5, 'x': 16160, 'y': 0},\n",
       " {'color': 'green', 'points': 5, 'x': 16180, 'y': 0},\n",
       " {'color': 'green', 'points': 5, 'x': 16200, 'y': 0},\n",
       " {'color': 'green', 'points': 5, 'x': 16220, 'y': 0},\n",
       " {'color': 'green', 'points': 5, 'x': 16240, 'y': 0},\n",
       " {'color': 'green', 'points': 5, 'x': 16260, 'y': 0},\n",
       " {'color': 'green', 'points': 5, 'x': 16280, 'y': 0},\n",
       " {'color': 'green', 'points': 5, 'x': 16300, 'y': 0},\n",
       " {'color': 'green', 'points': 5, 'x': 16320, 'y': 0},\n",
       " {'color': 'green', 'points': 5, 'x': 16340, 'y': 0},\n",
       " {'color': 'green', 'points': 5, 'x': 16360, 'y': 0},\n",
       " {'color': 'green', 'points': 5, 'x': 16380, 'y': 0},\n",
       " {'color': 'green', 'points': 5, 'x': 16400, 'y': 0},\n",
       " {'color': 'green', 'points': 5, 'x': 16420, 'y': 0},\n",
       " {'color': 'green', 'points': 5, 'x': 16440, 'y': 0},\n",
       " {'color': 'green', 'points': 5, 'x': 16460, 'y': 0},\n",
       " {'color': 'green', 'points': 5, 'x': 16480, 'y': 0},\n",
       " {'color': 'green', 'points': 5, 'x': 16500, 'y': 0},\n",
       " {'color': 'green', 'points': 5, 'x': 16520, 'y': 0},\n",
       " {'color': 'green', 'points': 5, 'x': 16540, 'y': 0},\n",
       " {'color': 'green', 'points': 5, 'x': 16560, 'y': 0},\n",
       " {'color': 'green', 'points': 5, 'x': 16580, 'y': 0},\n",
       " {'color': 'green', 'points': 5, 'x': 16600, 'y': 0},\n",
       " {'color': 'green', 'points': 5, 'x': 16620, 'y': 0},\n",
       " {'color': 'green', 'points': 5, 'x': 16640, 'y': 0},\n",
       " {'color': 'green', 'points': 5, 'x': 16660, 'y': 0},\n",
       " {'color': 'green', 'points': 5, 'x': 16680, 'y': 0},\n",
       " {'color': 'green', 'points': 5, 'x': 16700, 'y': 0},\n",
       " {'color': 'green', 'points': 5, 'x': 16720, 'y': 0},\n",
       " {'color': 'green', 'points': 5, 'x': 16740, 'y': 0},\n",
       " {'color': 'green', 'points': 5, 'x': 16760, 'y': 0},\n",
       " {'color': 'green', 'points': 5, 'x': 16780, 'y': 0},\n",
       " {'color': 'green', 'points': 5, 'x': 16800, 'y': 0},\n",
       " {'color': 'green', 'points': 5, 'x': 16820, 'y': 0},\n",
       " {'color': 'green', 'points': 5, 'x': 16840, 'y': 0},\n",
       " {'color': 'green', 'points': 5, 'x': 16860, 'y': 0},\n",
       " {'color': 'green', 'points': 5, 'x': 16880, 'y': 0},\n",
       " {'color': 'green', 'points': 5, 'x': 16900, 'y': 0},\n",
       " {'color': 'green', 'points': 5, 'x': 16920, 'y': 0},\n",
       " {'color': 'green', 'points': 5, 'x': 16940, 'y': 0},\n",
       " {'color': 'green', 'points': 5, 'x': 16960, 'y': 0},\n",
       " {'color': 'green', 'points': 5, 'x': 16980, 'y': 0},\n",
       " {'color': 'green', 'points': 5, 'x': 17000, 'y': 0},\n",
       " {'color': 'green', 'points': 5, 'x': 17020, 'y': 0},\n",
       " {'color': 'green', 'points': 5, 'x': 17040, 'y': 0},\n",
       " {'color': 'green', 'points': 5, 'x': 17060, 'y': 0},\n",
       " {'color': 'green', 'points': 5, 'x': 17080, 'y': 0},\n",
       " {'color': 'green', 'points': 5, 'x': 17100, 'y': 0},\n",
       " {'color': 'green', 'points': 5, 'x': 17120, 'y': 0},\n",
       " {'color': 'green', 'points': 5, 'x': 17140, 'y': 0},\n",
       " {'color': 'green', 'points': 5, 'x': 17160, 'y': 0},\n",
       " {'color': 'green', 'points': 5, 'x': 17180, 'y': 0},\n",
       " {'color': 'green', 'points': 5, 'x': 17200, 'y': 0},\n",
       " {'color': 'green', 'points': 5, 'x': 17220, 'y': 0},\n",
       " {'color': 'green', 'points': 5, 'x': 17240, 'y': 0},\n",
       " {'color': 'green', 'points': 5, 'x': 17260, 'y': 0},\n",
       " {'color': 'green', 'points': 5, 'x': 17280, 'y': 0},\n",
       " {'color': 'green', 'points': 5, 'x': 17300, 'y': 0},\n",
       " {'color': 'green', 'points': 5, 'x': 17320, 'y': 0},\n",
       " {'color': 'green', 'points': 5, 'x': 17340, 'y': 0},\n",
       " {'color': 'green', 'points': 5, 'x': 17360, 'y': 0},\n",
       " {'color': 'green', 'points': 5, 'x': 17380, 'y': 0},\n",
       " {'color': 'green', 'points': 5, 'x': 17400, 'y': 0},\n",
       " {'color': 'green', 'points': 5, 'x': 17420, 'y': 0},\n",
       " {'color': 'green', 'points': 5, 'x': 17440, 'y': 0},\n",
       " {'color': 'green', 'points': 5, 'x': 17460, 'y': 0},\n",
       " {'color': 'green', 'points': 5, 'x': 17480, 'y': 0},\n",
       " {'color': 'green', 'points': 5, 'x': 17500, 'y': 0},\n",
       " {'color': 'green', 'points': 5, 'x': 17520, 'y': 0},\n",
       " {'color': 'green', 'points': 5, 'x': 17540, 'y': 0},\n",
       " {'color': 'green', 'points': 5, 'x': 17560, 'y': 0},\n",
       " {'color': 'green', 'points': 5, 'x': 17580, 'y': 0},\n",
       " {'color': 'green', 'points': 5, 'x': 17600, 'y': 0},\n",
       " {'color': 'green', 'points': 5, 'x': 17620, 'y': 0},\n",
       " {'color': 'green', 'points': 5, 'x': 17640, 'y': 0},\n",
       " {'color': 'green', 'points': 5, 'x': 17660, 'y': 0},\n",
       " {'color': 'green', 'points': 5, 'x': 17680, 'y': 0},\n",
       " {'color': 'green', 'points': 5, 'x': 17700, 'y': 0},\n",
       " {'color': 'green', 'points': 5, 'x': 17720, 'y': 0},\n",
       " {'color': 'green', 'points': 5, 'x': 17740, 'y': 0},\n",
       " {'color': 'green', 'points': 5, 'x': 17760, 'y': 0},\n",
       " {'color': 'green', 'points': 5, 'x': 17780, 'y': 0},\n",
       " {'color': 'green', 'points': 5, 'x': 17800, 'y': 0},\n",
       " {'color': 'green', 'points': 5, 'x': 17820, 'y': 0},\n",
       " {'color': 'green', 'points': 5, 'x': 17840, 'y': 0},\n",
       " {'color': 'green', 'points': 5, 'x': 17860, 'y': 0},\n",
       " {'color': 'green', 'points': 5, 'x': 17880, 'y': 0},\n",
       " {'color': 'green', 'points': 5, 'x': 17900, 'y': 0},\n",
       " {'color': 'green', 'points': 5, 'x': 17920, 'y': 0},\n",
       " {'color': 'green', 'points': 5, 'x': 17940, 'y': 0},\n",
       " {'color': 'green', 'points': 5, 'x': 17960, 'y': 0},\n",
       " {'color': 'green', 'points': 5, 'x': 17980, 'y': 0},\n",
       " {'color': 'green', 'points': 5, 'x': 18000, 'y': 0},\n",
       " {'color': 'green', 'points': 5, 'x': 18020, 'y': 0},\n",
       " {'color': 'green', 'points': 5, 'x': 18040, 'y': 0},\n",
       " {'color': 'green', 'points': 5, 'x': 18060, 'y': 0},\n",
       " {'color': 'green', 'points': 5, 'x': 18080, 'y': 0},\n",
       " {'color': 'green', 'points': 5, 'x': 18100, 'y': 0},\n",
       " {'color': 'green', 'points': 5, 'x': 18120, 'y': 0},\n",
       " {'color': 'green', 'points': 5, 'x': 18140, 'y': 0},\n",
       " {'color': 'green', 'points': 5, 'x': 18160, 'y': 0},\n",
       " {'color': 'green', 'points': 5, 'x': 18180, 'y': 0},\n",
       " {'color': 'green', 'points': 5, 'x': 18200, 'y': 0},\n",
       " {'color': 'green', 'points': 5, 'x': 18220, 'y': 0},\n",
       " {'color': 'green', 'points': 5, 'x': 18240, 'y': 0},\n",
       " {'color': 'green', 'points': 5, 'x': 18260, 'y': 0},\n",
       " {'color': 'green', 'points': 5, 'x': 18280, 'y': 0},\n",
       " {'color': 'green', 'points': 5, 'x': 18300, 'y': 0},\n",
       " {'color': 'green', 'points': 5, 'x': 18320, 'y': 0},\n",
       " {'color': 'green', 'points': 5, 'x': 18340, 'y': 0},\n",
       " {'color': 'green', 'points': 5, 'x': 18360, 'y': 0},\n",
       " {'color': 'green', 'points': 5, 'x': 18380, 'y': 0},\n",
       " {'color': 'green', 'points': 5, 'x': 18400, 'y': 0},\n",
       " {'color': 'green', 'points': 5, 'x': 18420, 'y': 0},\n",
       " {'color': 'green', 'points': 5, 'x': 18440, 'y': 0},\n",
       " {'color': 'green', 'points': 5, 'x': 18460, 'y': 0},\n",
       " {'color': 'green', 'points': 5, 'x': 18480, 'y': 0},\n",
       " {'color': 'green', 'points': 5, 'x': 18500, 'y': 0},\n",
       " {'color': 'green', 'points': 5, 'x': 18520, 'y': 0},\n",
       " {'color': 'green', 'points': 5, 'x': 18540, 'y': 0},\n",
       " {'color': 'green', 'points': 5, 'x': 18560, 'y': 0},\n",
       " {'color': 'green', 'points': 5, 'x': 18580, 'y': 0},\n",
       " {'color': 'green', 'points': 5, 'x': 18600, 'y': 0},\n",
       " {'color': 'green', 'points': 5, 'x': 18620, 'y': 0},\n",
       " {'color': 'green', 'points': 5, 'x': 18640, 'y': 0},\n",
       " {'color': 'green', 'points': 5, 'x': 18660, 'y': 0},\n",
       " {'color': 'green', 'points': 5, 'x': 18680, 'y': 0},\n",
       " {'color': 'green', 'points': 5, 'x': 18700, 'y': 0},\n",
       " {'color': 'green', 'points': 5, 'x': 18720, 'y': 0},\n",
       " {'color': 'green', 'points': 5, 'x': 18740, 'y': 0},\n",
       " {'color': 'green', 'points': 5, 'x': 18760, 'y': 0},\n",
       " {'color': 'green', 'points': 5, 'x': 18780, 'y': 0},\n",
       " {'color': 'green', 'points': 5, 'x': 18800, 'y': 0},\n",
       " {'color': 'green', 'points': 5, 'x': 18820, 'y': 0},\n",
       " {'color': 'green', 'points': 5, 'x': 18840, 'y': 0},\n",
       " {'color': 'green', 'points': 5, 'x': 18860, 'y': 0},\n",
       " {'color': 'green', 'points': 5, 'x': 18880, 'y': 0},\n",
       " {'color': 'green', 'points': 5, 'x': 18900, 'y': 0},\n",
       " {'color': 'green', 'points': 5, 'x': 18920, 'y': 0},\n",
       " {'color': 'green', 'points': 5, 'x': 18940, 'y': 0},\n",
       " {'color': 'green', 'points': 5, 'x': 18960, 'y': 0},\n",
       " {'color': 'green', 'points': 5, 'x': 18980, 'y': 0},\n",
       " {'color': 'green', 'points': 5, 'x': 19000, 'y': 0},\n",
       " {'color': 'green', 'points': 5, 'x': 19020, 'y': 0},\n",
       " {'color': 'green', 'points': 5, 'x': 19040, 'y': 0},\n",
       " {'color': 'green', 'points': 5, 'x': 19060, 'y': 0},\n",
       " {'color': 'green', 'points': 5, 'x': 19080, 'y': 0},\n",
       " {'color': 'green', 'points': 5, 'x': 19100, 'y': 0},\n",
       " {'color': 'green', 'points': 5, 'x': 19120, 'y': 0},\n",
       " {'color': 'green', 'points': 5, 'x': 19140, 'y': 0},\n",
       " {'color': 'green', 'points': 5, 'x': 19160, 'y': 0},\n",
       " {'color': 'green', 'points': 5, 'x': 19180, 'y': 0},\n",
       " {'color': 'green', 'points': 5, 'x': 19200, 'y': 0},\n",
       " {'color': 'green', 'points': 5, 'x': 19220, 'y': 0},\n",
       " {'color': 'green', 'points': 5, 'x': 19240, 'y': 0},\n",
       " {'color': 'green', 'points': 5, 'x': 19260, 'y': 0},\n",
       " {'color': 'green', 'points': 5, 'x': 19280, 'y': 0},\n",
       " {'color': 'green', 'points': 5, 'x': 19300, 'y': 0},\n",
       " {'color': 'green', 'points': 5, 'x': 19320, 'y': 0},\n",
       " {'color': 'green', 'points': 5, 'x': 19340, 'y': 0},\n",
       " {'color': 'green', 'points': 5, 'x': 19360, 'y': 0},\n",
       " {'color': 'green', 'points': 5, 'x': 19380, 'y': 0},\n",
       " {'color': 'green', 'points': 5, 'x': 19400, 'y': 0},\n",
       " {'color': 'green', 'points': 5, 'x': 19420, 'y': 0},\n",
       " {'color': 'green', 'points': 5, 'x': 19440, 'y': 0},\n",
       " {'color': 'green', 'points': 5, 'x': 19460, 'y': 0},\n",
       " {'color': 'green', 'points': 5, 'x': 19480, 'y': 0},\n",
       " {'color': 'green', 'points': 5, 'x': 19500, 'y': 0},\n",
       " {'color': 'green', 'points': 5, 'x': 19520, 'y': 0},\n",
       " {'color': 'green', 'points': 5, 'x': 19540, 'y': 0},\n",
       " {'color': 'green', 'points': 5, 'x': 19560, 'y': 0},\n",
       " {'color': 'green', 'points': 5, 'x': 19580, 'y': 0},\n",
       " {'color': 'green', 'points': 5, 'x': 19600, 'y': 0},\n",
       " {'color': 'green', 'points': 5, 'x': 19620, 'y': 0},\n",
       " {'color': 'green', 'points': 5, 'x': 19640, 'y': 0},\n",
       " {'color': 'green', 'points': 5, 'x': 19660, 'y': 0},\n",
       " {'color': 'green', 'points': 5, 'x': 19680, 'y': 0},\n",
       " {'color': 'green', 'points': 5, 'x': 19700, 'y': 0},\n",
       " {'color': 'green', 'points': 5, 'x': 19720, 'y': 0},\n",
       " {'color': 'green', 'points': 5, 'x': 19740, 'y': 0},\n",
       " {'color': 'green', 'points': 5, 'x': 19760, 'y': 0},\n",
       " {'color': 'green', 'points': 5, 'x': 19780, 'y': 0},\n",
       " {'color': 'green', 'points': 5, 'x': 19800, 'y': 0},\n",
       " {'color': 'green', 'points': 5, 'x': 19820, 'y': 0},\n",
       " {'color': 'green', 'points': 5, 'x': 19840, 'y': 0},\n",
       " {'color': 'green', 'points': 5, 'x': 19860, 'y': 0},\n",
       " {'color': 'green', 'points': 5, 'x': 19880, 'y': 0},\n",
       " {'color': 'green', 'points': 5, 'x': 19900, 'y': 0},\n",
       " {'color': 'green', 'points': 5, 'x': 19920, 'y': 0},\n",
       " {'color': 'green', 'points': 5, 'x': 19940, 'y': 0},\n",
       " {'color': 'green', 'points': 5, 'x': 19960, 'y': 0},\n",
       " {'color': 'green', 'points': 5, 'x': 19980, 'y': 0},\n",
       " ...]"
      ]
     },
     "execution_count": 37,
     "metadata": {},
     "output_type": "execute_result"
    }
   ],
   "source": [
    "aliens"
   ]
  },
  {
   "cell_type": "code",
   "execution_count": 38,
   "id": "13c2e3a0",
   "metadata": {},
   "outputs": [
    {
     "name": "stdout",
     "output_type": "stream",
     "text": [
      "avijit\n"
     ]
    }
   ],
   "source": [
    "print('avijit')"
   ]
  },
  {
   "cell_type": "code",
   "execution_count": 39,
   "id": "ac539f33",
   "metadata": {},
   "outputs": [],
   "source": [
    "car='bmw'"
   ]
  },
  {
   "cell_type": "code",
   "execution_count": 40,
   "id": "23abf28f",
   "metadata": {},
   "outputs": [
    {
     "data": {
      "text/plain": [
       "True"
      ]
     },
     "execution_count": 40,
     "metadata": {},
     "output_type": "execute_result"
    }
   ],
   "source": [
    "car=='bmw'"
   ]
  },
  {
   "cell_type": "code",
   "execution_count": 41,
   "id": "713e32cb",
   "metadata": {},
   "outputs": [
    {
     "data": {
      "text/plain": [
       "False"
      ]
     },
     "execution_count": 41,
     "metadata": {},
     "output_type": "execute_result"
    }
   ],
   "source": [
    "car=='maruti'"
   ]
  },
  {
   "cell_type": "code",
   "execution_count": 42,
   "id": "0563d52c",
   "metadata": {},
   "outputs": [],
   "source": [
    "car+='Marut'"
   ]
  },
  {
   "cell_type": "code",
   "execution_count": 43,
   "id": "96f2559b",
   "metadata": {},
   "outputs": [
    {
     "data": {
      "text/plain": [
       "'bmwMarut'"
      ]
     },
     "execution_count": 43,
     "metadata": {},
     "output_type": "execute_result"
    }
   ],
   "source": [
    "car"
   ]
  },
  {
   "cell_type": "code",
   "execution_count": 44,
   "id": "8a930728",
   "metadata": {},
   "outputs": [
    {
     "data": {
      "text/plain": [
       "False"
      ]
     },
     "execution_count": 44,
     "metadata": {},
     "output_type": "execute_result"
    }
   ],
   "source": [
    "car=='bmw'"
   ]
  },
  {
   "cell_type": "code",
   "execution_count": 45,
   "id": "ea153c2a",
   "metadata": {},
   "outputs": [
    {
     "data": {
      "text/plain": [
       "'BMWMARUT'"
      ]
     },
     "execution_count": 45,
     "metadata": {},
     "output_type": "execute_result"
    }
   ],
   "source": [
    "car.upper()"
   ]
  },
  {
   "cell_type": "code",
   "execution_count": 46,
   "id": "1e3c6ca6",
   "metadata": {},
   "outputs": [
    {
     "data": {
      "text/plain": [
       "'bmwMarut'"
      ]
     },
     "execution_count": 46,
     "metadata": {},
     "output_type": "execute_result"
    }
   ],
   "source": [
    "car"
   ]
  },
  {
   "cell_type": "code",
   "execution_count": 47,
   "id": "6f13554d",
   "metadata": {},
   "outputs": [
    {
     "data": {
      "text/plain": [
       "True"
      ]
     },
     "execution_count": 47,
     "metadata": {},
     "output_type": "execute_result"
    }
   ],
   "source": [
    "car!='bmw'"
   ]
  },
  {
   "cell_type": "code",
   "execution_count": 48,
   "id": "b61cecde",
   "metadata": {},
   "outputs": [],
   "source": [
    "age=18"
   ]
  },
  {
   "cell_type": "code",
   "execution_count": 50,
   "id": "9517dda0",
   "metadata": {},
   "outputs": [
    {
     "data": {
      "text/plain": [
       "False"
      ]
     },
     "execution_count": 50,
     "metadata": {},
     "output_type": "execute_result"
    }
   ],
   "source": [
    "age<=10"
   ]
  },
  {
   "cell_type": "code",
   "execution_count": 58,
   "id": "969733e1",
   "metadata": {},
   "outputs": [
    {
     "ename": "SyntaxError",
     "evalue": "invalid syntax (2389869624.py, line 1)",
     "output_type": "error",
     "traceback": [
      "\u001b[1;36m  Cell \u001b[1;32mIn [58], line 1\u001b[1;36m\u001b[0m\n\u001b[1;33m    age1==0 not age2==8\u001b[0m\n\u001b[1;37m                ^\u001b[0m\n\u001b[1;31mSyntaxError\u001b[0m\u001b[1;31m:\u001b[0m invalid syntax\n"
     ]
    }
   ],
   "source": [
    "age1==0 age2==8"
   ]
  },
  {
   "cell_type": "code",
   "execution_count": 53,
   "id": "199f4958",
   "metadata": {},
   "outputs": [],
   "source": [
    "age1=88\n",
    "age2=8"
   ]
  },
  {
   "cell_type": "code",
   "execution_count": 59,
   "id": "f2311dd7",
   "metadata": {},
   "outputs": [
    {
     "name": "stdout",
     "output_type": "stream",
     "text": [
      "your cost is $5.\n"
     ]
    }
   ],
   "source": [
    "age=12\n",
    "if age<4:\n",
    "    price=0\n",
    "elif age<18:\n",
    "    price=5\n",
    "else:\n",
    "    price=10\n",
    "print(\"your cost is $\"+str(price)+\".\")"
   ]
  },
  {
   "cell_type": "code",
   "execution_count": 60,
   "id": "2fe07310",
   "metadata": {},
   "outputs": [
    {
     "data": {
      "text/plain": [
       "True"
      ]
     },
     "execution_count": 60,
     "metadata": {},
     "output_type": "execute_result"
    }
   ],
   "source": [
    "players=['al', 'bea','cyn','dale']\n",
    "'al' in players"
   ]
  },
  {
   "cell_type": "code",
   "execution_count": 61,
   "id": "b81c77aa",
   "metadata": {},
   "outputs": [
    {
     "data": {
      "text/plain": [
       "False"
      ]
     },
     "execution_count": 61,
     "metadata": {},
     "output_type": "execute_result"
    }
   ],
   "source": [
    "'eric' in players"
   ]
  },
  {
   "cell_type": "code",
   "execution_count": 62,
   "id": "01434a79",
   "metadata": {},
   "outputs": [
    {
     "name": "stdout",
     "output_type": "stream",
     "text": [
      "1\n",
      "4\n",
      "9\n",
      "16\n",
      "25\n"
     ]
    }
   ],
   "source": [
    "de=1\n",
    "while de<=5:\n",
    "    print(de**2)\n",
    "    de+=1"
   ]
  },
  {
   "cell_type": "code",
   "execution_count": 64,
   "id": "009feb30",
   "metadata": {},
   "outputs": [
    {
     "name": "stdout",
     "output_type": "stream",
     "text": [
      "we:uh\n",
      "uh\n",
      "uh\n",
      "we:ii\n",
      "ii\n",
      "ii\n",
      "we:t\n",
      "t\n"
     ]
    }
   ],
   "source": [
    "md=''\n",
    "while md!='t':\n",
    "    md=input('we:')\n",
    "    print(md)\n",
    "    \n",
    "    if md!='t':\n",
    "        print(md)"
   ]
  },
  {
   "cell_type": "code",
   "execution_count": 65,
   "id": "9ec16ca4",
   "metadata": {},
   "outputs": [
    {
     "name": "stdout",
     "output_type": "stream",
     "text": [
      "what:Tell me something, and I will \n",
      "Tell me something, and I will \n",
      "what:quit\n"
     ]
    }
   ],
   "source": [
    "active=True\n",
    "while active:\n",
    "    msge=input('what:')\n",
    "    \n",
    "    if msge == 'quit':\n",
    "        active=False\n",
    "    else:\n",
    "        print(msge)"
   ]
  },
  {
   "cell_type": "code",
   "execution_count": 66,
   "id": "5033dc97",
   "metadata": {},
   "outputs": [
    {
     "name": "stdout",
     "output_type": "stream",
     "text": [
      "whatkolkata\n",
      "I love kolkata\n",
      "whatbangalore\n",
      "I love bangalore\n",
      "whatquit\n"
     ]
    }
   ],
   "source": [
    "while True:\n",
    "    city=input('what')\n",
    "    \n",
    "    if city=='quit':\n",
    "        break\n",
    "    else:\n",
    "        print('I love '+city)"
   ]
  },
  {
   "cell_type": "code",
   "execution_count": null,
   "id": "9ffe3fc9",
   "metadata": {},
   "outputs": [],
   "source": [
    "banned_users=['eve','fred','gary','helen']\n",
    "\n",
    "prompt=\"\\nAdd a player to youu team.\"\n",
    "prompt=\"\\nenter 'quit' when you're done. \"\n",
    "\n",
    "players=[]\n",
    "while True:\n",
    "    player=input(prompt)\n",
    "    if players=='quit':\n",
    "        break\n",
    "    elif player in banned_users:\n",
    "        print(player+\"is banned!\")\n",
    "    else:\n",
    "        players.append(player)\n",
    "print(\"\\nYour team:\")\n",
    "for player in players:\n",
    "    print(player)"
   ]
  },
  {
   "cell_type": "code",
   "execution_count": 1,
   "id": "f58453e0",
   "metadata": {},
   "outputs": [
    {
     "name": "stdout",
     "output_type": "stream",
     "text": [
      "avijit\n"
     ]
    }
   ],
   "source": [
    "print('avijit')"
   ]
  },
  {
   "cell_type": "code",
   "execution_count": null,
   "id": "192a0bbf",
   "metadata": {},
   "outputs": [],
   "source": []
  }
 ],
 "metadata": {
  "kernelspec": {
   "display_name": "Python 3 (ipykernel)",
   "language": "python",
   "name": "python3"
  },
  "language_info": {
   "codemirror_mode": {
    "name": "ipython",
    "version": 3
   },
   "file_extension": ".py",
   "mimetype": "text/x-python",
   "name": "python",
   "nbconvert_exporter": "python",
   "pygments_lexer": "ipython3",
   "version": "3.10.7"
  }
 },
 "nbformat": 4,
 "nbformat_minor": 5
}
