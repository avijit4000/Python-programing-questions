{
 "cells": [
  {
   "cell_type": "code",
   "execution_count": 1,
   "id": "949bb1dc",
   "metadata": {},
   "outputs": [
    {
     "name": "stdout",
     "output_type": "stream",
     "text": [
      "what is the name: avijit\n",
      "No\n"
     ]
    }
   ],
   "source": [
    "def palinndrome(s):\n",
    "    temp=s[::-1]\n",
    "    if s==  temp:\n",
    "        print(\"Yes\")\n",
    "    else:\n",
    "        print(\"No\")\n",
    "s=str(input(\"what is the name: \"))\n",
    "palinndrome(s)"
   ]
  },
  {
   "cell_type": "code",
   "execution_count": 2,
   "id": "f71f2a2e",
   "metadata": {},
   "outputs": [
    {
     "name": "stdout",
     "output_type": "stream",
     "text": [
      "enter the name: sd\n"
     ]
    },
    {
     "data": {
      "text/plain": [
       "False"
      ]
     },
     "execution_count": 2,
     "metadata": {},
     "output_type": "execute_result"
    }
   ],
   "source": [
    "def palindrome2(s):\n",
    "    n=len(s)\n",
    "    for i in range (n):\n",
    "        if s[i]!=s[n-i-1]:\n",
    "            return False\n",
    "    return True\n",
    "s=str(input('enter the name: '))\n",
    "palindrome2(s)"
   ]
  },
  {
   "cell_type": "code",
   "execution_count": 3,
   "id": "00b5b99f",
   "metadata": {},
   "outputs": [
    {
     "name": "stdout",
     "output_type": "stream",
     "text": [
      "what is the name:dded\n",
      "['d', 'e', 'd', 'd']\n"
     ]
    }
   ],
   "source": [
    "a=str(input('what is the name:'))\n",
    "b= reversed(a)\n",
    "s=[]\n",
    "for i in b:\n",
    "    s.append(i)\n",
    "print(s)\n"
   ]
  },
  {
   "cell_type": "code",
   "execution_count": 4,
   "id": "9bec2463",
   "metadata": {},
   "outputs": [
    {
     "name": "stdout",
     "output_type": "stream",
     "text": [
      "what is the name: dd\n",
      "<function pad3 at 0x0000016A75DC0160>\n"
     ]
    }
   ],
   "source": [
    "def pad3(s):\n",
    "    tem=''.join(reversed(s))\n",
    "    print(tem)\n",
    "    if s==tem:\n",
    "        return True\n",
    "    else:\n",
    "        return False\n",
    "s=str(input('what is the name: '))\n",
    "print(pad3)"
   ]
  },
  {
   "cell_type": "code",
   "execution_count": 5,
   "id": "c6304401",
   "metadata": {},
   "outputs": [
    {
     "name": "stdout",
     "output_type": "stream",
     "text": [
      "what is the name: dd\n"
     ]
    },
    {
     "data": {
      "text/plain": [
       "True"
      ]
     },
     "execution_count": 5,
     "metadata": {},
     "output_type": "execute_result"
    }
   ],
   "source": [
    "def pal4(s):\n",
    "    n=len(s)\n",
    "    first=0\n",
    "    last=n-1\n",
    "    while(first<last):\n",
    "        if s[first]==s[last]:\n",
    "            first+=1\n",
    "            last-=1\n",
    "        else:\n",
    "            return False\n",
    "    return True\n",
    "s=str(input('what is the name: '))\n",
    "pal4(s)"
   ]
  },
  {
   "cell_type": "code",
   "execution_count": 6,
   "id": "ceb1c391",
   "metadata": {},
   "outputs": [
    {
     "data": {
      "text/plain": [
       "6"
      ]
     },
     "execution_count": 6,
     "metadata": {},
     "output_type": "execute_result"
    }
   ],
   "source": [
    "a='avijit'\n",
    "len(a)"
   ]
  },
  {
   "cell_type": "code",
   "execution_count": 12,
   "id": "66651dac",
   "metadata": {},
   "outputs": [
    {
     "name": "stdout",
     "output_type": "stream",
     "text": [
      "what is the name: dddddd\n"
     ]
    },
    {
     "data": {
      "text/plain": [
       "True"
      ]
     },
     "execution_count": 12,
     "metadata": {},
     "output_type": "execute_result"
    }
   ],
   "source": [
    "def ami(r):\n",
    "    n=len(r)\n",
    "    fi=0\n",
    "    la=n-1\n",
    "    while (fi<la):\n",
    "        if r[fi]==r[la]:\n",
    "            fi+=1\n",
    "            la-=1\n",
    "        else:\n",
    "            return False\n",
    "    return True\n",
    "r=str(input('what is the name: '))\n",
    "ami(r)"
   ]
  },
  {
   "cell_type": "code",
   "execution_count": 8,
   "id": "c3b651cd",
   "metadata": {},
   "outputs": [
    {
     "name": "stdout",
     "output_type": "stream",
     "text": [
      "1\n",
      "2\n",
      "3\n",
      "4\n"
     ]
    }
   ],
   "source": [
    "cv=1\n",
    "while cv<5:\n",
    "    print(cv)\n",
    "    cv+=1"
   ]
  },
  {
   "cell_type": "code",
   "execution_count": 10,
   "id": "385778bf",
   "metadata": {},
   "outputs": [
    {
     "name": "stdout",
     "output_type": "stream",
     "text": [
      "avijit\n"
     ]
    }
   ],
   "source": [
    "print('avijit')"
   ]
  },
  {
   "cell_type": "code",
   "execution_count": 17,
   "id": "42e7a8d2",
   "metadata": {},
   "outputs": [
    {
     "name": "stdout",
     "output_type": "stream",
     "text": [
      "True\n"
     ]
    }
   ],
   "source": [
    "def pali5(n):\n",
    "    temp=n\n",
    "    rev=0\n",
    "    while(temp>0):\n",
    "        digit=temp%10\n",
    "        rev=rev*10+digit\n",
    "        temp=temp//10\n",
    "    if n==rev:\n",
    "        return True\n",
    "    else:\n",
    "        return False\n",
    "n=1234321\n",
    "print(pali5(n))"
   ]
  },
  {
   "cell_type": "code",
   "execution_count": 22,
   "id": "1f51eaae",
   "metadata": {},
   "outputs": [
    {
     "name": "stdout",
     "output_type": "stream",
     "text": [
      "0\n",
      "1\n",
      "1\n",
      "2\n",
      "3\n",
      "5\n",
      "8\n",
      "13\n",
      "21\n",
      "34\n"
     ]
    }
   ],
   "source": [
    "def fibonnaci(n):\n",
    "    a,b =0,1\n",
    "    print(a)\n",
    "    while (b<n):\n",
    "        print(b)\n",
    "        c=a+b\n",
    "        a=b\n",
    "        b=c\n",
    "fibonnaci(50)"
   ]
  },
  {
   "cell_type": "code",
   "execution_count": 26,
   "id": "062821d5",
   "metadata": {},
   "outputs": [
    {
     "name": "stdout",
     "output_type": "stream",
     "text": [
      "0\n",
      "1\n",
      "1\n",
      "2\n",
      "3\n",
      "5\n",
      "8\n",
      "13\n",
      "21\n",
      "34\n",
      "55\n",
      "89\n",
      "144\n",
      "233\n",
      "377\n",
      "610\n",
      "987\n",
      "1597\n",
      "2584\n",
      "4181\n",
      "6765\n",
      "10946\n",
      "17711\n",
      "28657\n",
      "46368\n",
      "None\n"
     ]
    }
   ],
   "source": [
    "def fibonnaci2(n):\n",
    "    a,b=0,1\n",
    "    if n==1:\n",
    "        print(a)\n",
    "    else:\n",
    "        print(a)\n",
    "        print(b)\n",
    "        for i in range(2,n):\n",
    "            c=a+b\n",
    "            a=b\n",
    "            b=c\n",
    "            print(c)\n",
    "print(fibonnaci2(25))"
   ]
  },
  {
   "cell_type": "code",
   "execution_count": 27,
   "id": "46572f88",
   "metadata": {},
   "outputs": [
    {
     "name": "stdout",
     "output_type": "stream",
     "text": [
      "0\n",
      "1\n",
      "1\n",
      "2\n",
      "3\n",
      "5\n",
      "8\n",
      "13\n",
      "21\n",
      "34\n"
     ]
    }
   ],
   "source": [
    "def fibonnaci(n):\n",
    "    a,b=0,1\n",
    "    print(a)\n",
    "    while (b<n):\n",
    "        print(b)\n",
    "        a,b=b,a+b\n",
    "fibonnaci(50)"
   ]
  },
  {
   "cell_type": "code",
   "execution_count": 31,
   "id": "e2f8a665",
   "metadata": {},
   "outputs": [
    {
     "name": "stdout",
     "output_type": "stream",
     "text": [
      "0\n",
      "1\n",
      "1\n",
      "2\n",
      "3\n",
      "5\n",
      "8\n",
      "13\n",
      "21\n",
      "34\n",
      "55\n",
      "89\n"
     ]
    }
   ],
   "source": [
    "    n=125\n",
    "    a,b=0,1\n",
    "    print(a)\n",
    "    while (b<n):\n",
    "        print(b)\n",
    "        a,b=b,a+b"
   ]
  },
  {
   "cell_type": "code",
   "execution_count": 34,
   "id": "5792681e",
   "metadata": {},
   "outputs": [
    {
     "name": "stdout",
     "output_type": "stream",
     "text": [
      "0\n",
      "1\n",
      "1\n",
      "2\n",
      "3\n",
      "5\n",
      "8\n",
      "13\n",
      "21\n",
      "34\n",
      "None\n"
     ]
    }
   ],
   "source": [
    "def fibonnaci2(n):\n",
    "    a,b=0,1\n",
    "    if n==1:\n",
    "        print(a)\n",
    "    else:\n",
    "        print(a)\n",
    "        print(b)\n",
    "        for i in range(2,n):\n",
    "            c=a+b\n",
    "            a=b\n",
    "            b=c\n",
    "            print(c)\n",
    "print(fibonnaci2(10))"
   ]
  },
  {
   "cell_type": "code",
   "execution_count": 33,
   "id": "d0edfc00",
   "metadata": {},
   "outputs": [
    {
     "name": "stdout",
     "output_type": "stream",
     "text": [
      "0\n",
      "1\n",
      "1\n",
      "2\n",
      "3\n",
      "5\n",
      "8\n",
      "13\n",
      "21\n",
      "34\n"
     ]
    }
   ],
   "source": [
    "def fibobacci(n):\n",
    "    if n<=1:\n",
    "        return n\n",
    "    else:\n",
    "        return (fibobacci(n-1)+fibobacci(n-2))\n",
    "n=10\n",
    "if n<=0:\n",
    "    print(\"Invalid\")\n",
    "else:\n",
    "    for i in range(n):\n",
    "        print(fibobacci(i))"
   ]
  },
  {
   "cell_type": "code",
   "execution_count": 38,
   "id": "5505b590",
   "metadata": {},
   "outputs": [
    {
     "data": {
      "text/plain": [
       "'a2b3e3i2u3r2y1e1b1d3'"
      ]
     },
     "execution_count": 38,
     "metadata": {},
     "output_type": "execute_result"
    }
   ],
   "source": [
    "def compress(s):\n",
    "    n=len(s)\n",
    "    new_s=''\n",
    "    count=1\n",
    "    for i in range(n-1):\n",
    "        if s[i]==s[i+1]:\n",
    "            count+=1\n",
    "        else:\n",
    "            new_s=new_s+s[i]+str(count)\n",
    "            \n",
    "            count=1\n",
    "    new_s=new_s+s[n-1]+str(count)\n",
    "    return new_s    \n",
    "s='aabbbeeeiiuuurryebddd'\n",
    "compress(s)"
   ]
  },
  {
   "cell_type": "code",
   "execution_count": 40,
   "id": "af5655e9",
   "metadata": {},
   "outputs": [
    {
     "name": "stdout",
     "output_type": "stream",
     "text": [
      "a2n2e2i3r4u1d4\n"
     ]
    }
   ],
   "source": [
    "def compress2(s):\n",
    "    n=len(s)\n",
    "    i=0\n",
    "    new_s=''\n",
    "    while (i<n-1):\n",
    "        count=1\n",
    "        while(i<n-1 and s[i]==s[i+1]):\n",
    "            count+=1\n",
    "            i+=1\n",
    "        i+=1\n",
    "        new_s=new_s+s[i-1]+str(count)\n",
    "    return new_s\n",
    "s='aanneeiiirrrrudddd'\n",
    "print(compress2(s))"
   ]
  },
  {
   "cell_type": "code",
   "execution_count": null,
   "id": "fe1b9ef5",
   "metadata": {},
   "outputs": [],
   "source": []
  }
 ],
 "metadata": {
  "kernelspec": {
   "display_name": "Python 3 (ipykernel)",
   "language": "python",
   "name": "python3"
  },
  "language_info": {
   "codemirror_mode": {
    "name": "ipython",
    "version": 3
   },
   "file_extension": ".py",
   "mimetype": "text/x-python",
   "name": "python",
   "nbconvert_exporter": "python",
   "pygments_lexer": "ipython3",
   "version": "3.10.7"
  }
 },
 "nbformat": 4,
 "nbformat_minor": 5
}
